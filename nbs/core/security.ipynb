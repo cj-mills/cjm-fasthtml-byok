{
 "cells": [
  {
   "cell_type": "markdown",
   "id": "425c3622",
   "metadata": {},
   "source": [
    "# Security\n",
    "\n",
    "> Encryption and security utilities for API key management"
   ]
  },
  {
   "cell_type": "code",
   "execution_count": null,
   "id": "3ca28f4a",
   "metadata": {},
   "outputs": [],
   "source": [
    "#| default_exp core.security"
   ]
  },
  {
   "cell_type": "code",
   "execution_count": null,
   "id": "f90c41cb",
   "metadata": {},
   "outputs": [],
   "source": [
    "#| hide\n",
    "from nbdev.showdoc import *"
   ]
  },
  {
   "cell_type": "code",
   "execution_count": null,
   "id": "a27068bb",
   "metadata": {},
   "outputs": [],
   "source": [
    "#| export\n",
    "import os\n",
    "import base64\n",
    "import hashlib\n",
    "import warnings\n",
    "from typing import Optional, Union\n",
    "from cryptography.fernet import Fernet, InvalidToken\n",
    "from cryptography.hazmat.primitives import hashes\n",
    "from cryptography.hazmat.primitives.kdf.pbkdf2 import PBKDF2HMAC\n",
    "\n",
    "from cjm_fasthtml_byok.core.types import EncryptionError, SecurityWarning"
   ]
  },
  {
   "cell_type": "markdown",
   "id": "71e32eb8",
   "metadata": {},
   "source": [
    "## Key Generation"
   ]
  },
  {
   "cell_type": "code",
   "execution_count": null,
   "id": "23593aaf",
   "metadata": {},
   "outputs": [],
   "source": "#| export\ndef generate_encryption_key(\n    password: Optional[str] = None,  # Optional password to derive key from\n    salt: Optional[bytes] = None  # Optional salt for key derivation (required if password provided)\n) -> bytes:  # 32-byte encryption key suitable for Fernet\n    \"\"\"Generate or derive an encryption key.\"\"\"\n    if password:\n        if not salt:\n            salt = os.urandom(16)\n        kdf = PBKDF2HMAC(\n            algorithm=hashes.SHA256(),\n            length=32,\n            salt=salt,\n            iterations=100000,\n        )\n        key = base64.urlsafe_b64encode(kdf.derive(password.encode()))\n        return key\n    else:\n        # Generate a random key\n        return Fernet.generate_key()"
  },
  {
   "cell_type": "code",
   "execution_count": null,
   "id": "b9126681",
   "metadata": {},
   "outputs": [],
   "source": "#| export\ndef get_or_create_app_key(\n    secret_key: str  # The application's secret key (from FastHTML app config)\n) -> bytes:  # Encryption key for the app\n    \"\"\"Get or create an app-specific encryption key derived from the app's secret key.\"\"\"\n    # Use a fixed salt specific to BYOK to ensure consistency\n    salt = b'cjm-fasthtml-byok-v1'\n    return generate_encryption_key(password=secret_key, salt=salt)"
  },
  {
   "cell_type": "markdown",
   "id": "406265ba",
   "metadata": {},
   "source": [
    "## Encryption/Decryption"
   ]
  },
  {
   "cell_type": "code",
   "execution_count": null,
   "id": "cfe0ff3f",
   "metadata": {},
   "outputs": [],
   "source": [
    "#| export\n",
    "class KeyEncryptor:\n",
    "    \"\"\"\n",
    "    Handles encryption and decryption of API keys.\n",
    "    \"\"\"\n",
    "    \n",
    "    def __init__(\n",
    "        self,\n",
    "        encryption_key: Optional[bytes] = None  # Encryption key to use. If None, generates a new one\n",
    "    ):\n",
    "        \"\"\"\n",
    "        Initialize the encryptor.\n",
    "        \n",
    "        Args:\n",
    "            encryption_key: Encryption key to use. If None, generates a new one.\n",
    "        \"\"\"\n",
    "        self.encryption_key = encryption_key or Fernet.generate_key()\n",
    "        self._fernet = Fernet(self.encryption_key)\n",
    "    \n",
    "    def encrypt(\n",
    "        self,\n",
    "        value: str  # Plain text API key to encrypt\n",
    "    ) -> bytes:  # Encrypted bytes\n",
    "        \"\"\"\n",
    "        Encrypt an API key value.\n",
    "        \n",
    "        Args:\n",
    "            value: Plain text API key\n",
    "        \n",
    "        Returns:\n",
    "            Encrypted bytes\n",
    "        \n",
    "        Raises:\n",
    "            EncryptionError: If encryption fails\n",
    "        \"\"\"\n",
    "        try:\n",
    "            return self._fernet.encrypt(value.encode())\n",
    "        except Exception as e:\n",
    "            raise EncryptionError(f\"Failed to encrypt value: {e}\")\n",
    "    \n",
    "    def decrypt(\n",
    "        self,\n",
    "        encrypted_value: bytes  # Encrypted bytes to decrypt\n",
    "    ) -> str:  # Decrypted plain text API key\n",
    "        \"\"\"\n",
    "        Decrypt an API key value.\n",
    "        \n",
    "        Args:\n",
    "            encrypted_value: Encrypted bytes\n",
    "        \n",
    "        Returns:\n",
    "            Decrypted API key\n",
    "        \n",
    "        Raises:\n",
    "            EncryptionError: If decryption fails\n",
    "        \"\"\"\n",
    "        try:\n",
    "            return self._fernet.decrypt(encrypted_value).decode()\n",
    "        except InvalidToken:\n",
    "            raise EncryptionError(\"Invalid encryption key or corrupted data\")\n",
    "        except Exception as e:\n",
    "            raise EncryptionError(f\"Failed to decrypt value: {e}\")\n",
    "    \n",
    "    def rotate_key(\n",
    "        self,\n",
    "        new_key: bytes,  # New encryption key to use\n",
    "        encrypted_value: bytes  # Value encrypted with current key\n",
    "    ) -> bytes:  # Value re-encrypted with new key\n",
    "        \"\"\"\n",
    "        Re-encrypt a value with a new key.\n",
    "        \n",
    "        Args:\n",
    "            new_key: New encryption key\n",
    "            encrypted_value: Value encrypted with current key\n",
    "        \n",
    "        Returns:\n",
    "            Value encrypted with new key\n",
    "        \"\"\"\n",
    "        decrypted = self.decrypt(encrypted_value)\n",
    "        new_encryptor = KeyEncryptor(new_key)\n",
    "        return new_encryptor.encrypt(decrypted)"
   ]
  },
  {
   "cell_type": "markdown",
   "id": "70bee998",
   "metadata": {},
   "source": [
    "## Security Checks"
   ]
  },
  {
   "cell_type": "code",
   "execution_count": null,
   "id": "607f291b",
   "metadata": {},
   "outputs": [],
   "source": "#| export\ndef check_https(\n    request  # FastHTML/Starlette request object\n) -> bool:  # True if using HTTPS, False otherwise\n    \"\"\"Check if the request is using HTTPS.\"\"\"\n    return request.url.scheme == 'https'"
  },
  {
   "cell_type": "code",
   "execution_count": null,
   "id": "7a4a8a8c",
   "metadata": {},
   "outputs": [],
   "source": "#| export\ndef validate_environment(\n    request,  # FastHTML/Starlette request object\n    require_https: bool = True,  # Whether to require HTTPS\n    is_production: bool = None  # Whether running in production (auto-detected if None)\n) -> None:\n    \"\"\"Validate the security environment.\"\"\"\n    if is_production is None:\n        # Simple production detection\n        is_production = not any([\n            'localhost' in str(request.url),\n            '127.0.0.1' in str(request.url),\n            '0.0.0.0' in str(request.url),\n            os.environ.get('DEBUG', '').lower() in ('true', '1', 'yes')\n        ])\n    \n    if is_production and require_https and not check_https(request):\n        warnings.warn(\n            \"API keys are being transmitted over HTTP in production. \"\n            \"This is insecure. Please use HTTPS.\",\n            SecurityWarning\n        )"
  },
  {
   "cell_type": "code",
   "execution_count": null,
   "id": "4b2181b8",
   "metadata": {},
   "outputs": [],
   "source": "#| export\ndef mask_key(\n    key: str,  # The API key to mask\n    visible_chars: int = 4  # Number of characters to show at start and end\n) -> str:  # Masked key like 'sk-a...xyz'\n    \"\"\"Mask an API key for display purposes.\"\"\"\n    if len(key) <= visible_chars * 2:\n        return '*' * len(key)\n    \n    return f\"{key[:visible_chars]}...{key[-visible_chars:]}\""
  },
  {
   "cell_type": "markdown",
   "id": "5ac8f72f",
   "metadata": {},
   "source": [
    "## Key Fingerprinting"
   ]
  },
  {
   "cell_type": "code",
   "execution_count": null,
   "id": "728b8707",
   "metadata": {},
   "outputs": [],
   "source": "#| export\ndef get_key_fingerprint(\n    key: str  # The API key\n) -> str:  # SHA256 fingerprint of the key (first 16 chars)\n    \"\"\"Generate a fingerprint for an API key (for logging/tracking without exposing the key).\"\"\"\n    hash_obj = hashlib.sha256(key.encode())\n    return hash_obj.hexdigest()[:16]"
  },
  {
   "cell_type": "markdown",
   "id": "2b5f63b2",
   "metadata": {},
   "source": [
    "## Tests"
   ]
  },
  {
   "cell_type": "code",
   "execution_count": null,
   "id": "90dc059b",
   "metadata": {},
   "outputs": [
    {
     "name": "stdout",
     "output_type": "stream",
     "text": [
      "✓ Encryption/decryption working\n",
      "✓ Key masking: sk-1...cdef\n",
      "✓ Fingerprinting: 1255558df586ae27\n"
     ]
    }
   ],
   "source": [
    "# Test encryption/decryption\n",
    "encryptor = KeyEncryptor()\n",
    "test_key = \"sk-1234567890abcdef\"\n",
    "encrypted = encryptor.encrypt(test_key)\n",
    "decrypted = encryptor.decrypt(encrypted)\n",
    "assert decrypted == test_key\n",
    "print(f\"✓ Encryption/decryption working\")\n",
    "\n",
    "# Test key masking\n",
    "masked = mask_key(\"sk-1234567890abcdef\")\n",
    "assert masked == \"sk-1...cdef\"\n",
    "print(f\"✓ Key masking: {masked}\")\n",
    "\n",
    "# Test fingerprinting\n",
    "fp1 = get_key_fingerprint(\"test-key-1\")\n",
    "fp2 = get_key_fingerprint(\"test-key-2\")\n",
    "assert fp1 != fp2\n",
    "assert len(fp1) == 16\n",
    "print(f\"✓ Fingerprinting: {fp1}\")"
   ]
  },
  {
   "cell_type": "code",
   "execution_count": null,
   "id": "099cbe2e",
   "metadata": {},
   "outputs": [],
   "source": [
    "#| hide\n",
    "import nbdev; nbdev.nbdev_export()"
   ]
  }
 ],
 "metadata": {
  "kernelspec": {
   "display_name": "python3",
   "language": "python",
   "name": "python3"
  }
 },
 "nbformat": 4,
 "nbformat_minor": 5
}
