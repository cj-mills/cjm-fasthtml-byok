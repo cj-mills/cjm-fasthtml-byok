{
 "cells": [
  {
   "cell_type": "markdown",
   "id": "99b91cfd",
   "metadata": {},
   "source": [
    "# Types\n",
    "\n",
    "> Type definitions and protocols for the BYOK system"
   ]
  },
  {
   "cell_type": "code",
   "execution_count": null,
   "id": "1050129c",
   "metadata": {},
   "outputs": [],
   "source": [
    "#| default_exp core.types"
   ]
  },
  {
   "cell_type": "code",
   "execution_count": null,
   "id": "c045e14b",
   "metadata": {},
   "outputs": [],
   "source": [
    "#| hide\n",
    "from nbdev.showdoc import *"
   ]
  },
  {
   "cell_type": "code",
   "execution_count": null,
   "id": "7be78bbe",
   "metadata": {},
   "outputs": [],
   "source": [
    "#| export\n",
    "from typing import Optional, Dict, Any, Protocol, runtime_checkable\n",
    "from dataclasses import dataclass, field\n",
    "from datetime import datetime, timedelta\n",
    "from enum import Enum"
   ]
  },
  {
   "cell_type": "markdown",
   "id": "07124659",
   "metadata": {},
   "source": [
    "## Storage Types"
   ]
  },
  {
   "cell_type": "code",
   "execution_count": null,
   "id": "953f2e5c",
   "metadata": {},
   "outputs": [],
   "source": [
    "#| export\n",
    "class StorageBackend(Enum):\n",
    "    \"\"\"Available storage backends for API keys\"\"\"\n",
    "    SESSION = \"session\"  # Session-only storage\n",
    "    DATABASE = \"database\"  # Database-backed storage\n",
    "    HYBRID = \"hybrid\"  # Both session and database"
   ]
  },
  {
   "cell_type": "code",
   "execution_count": null,
   "id": "1c9d6bd3",
   "metadata": {},
   "outputs": [],
   "source": [
    "#| export\n",
    "@dataclass\n",
    "class APIKey:\n",
    "    \"\"\"Represents an encrypted API key with metadata\"\"\"\n",
    "    provider: str  # e.g., 'openai', 'anthropic', 'google'\n",
    "    encrypted_value: bytes  # Encrypted key value\n",
    "    created_at: datetime = field(default_factory=datetime.now)\n",
    "    expires_at: Optional[datetime] = None\n",
    "    user_id: Optional[str] = None  # For database storage\n",
    "    \n",
    "    @property\n",
    "    def is_expired(\n",
    "        self\n",
    "    ) -> bool:  # True if key has expired, False otherwise\n",
    "        \"\"\"Check if the key has expired\"\"\"\n",
    "        if self.expires_at is None:\n",
    "            return False\n",
    "        return datetime.now() > self.expires_at\n",
    "    \n",
    "    def to_dict(\n",
    "        self\n",
    "    ) -> Dict[str, Any]:  # Dictionary representation for serialization\n",
    "        \"\"\"Convert to dictionary for storage\"\"\"\n",
    "        return {\n",
    "            'provider': self.provider,\n",
    "            'encrypted_value': self.encrypted_value.hex(),\n",
    "            'created_at': self.created_at.isoformat(),\n",
    "            'expires_at': self.expires_at.isoformat() if self.expires_at else None,\n",
    "            'user_id': self.user_id\n",
    "        }\n",
    "    \n",
    "    @classmethod\n",
    "    def from_dict(\n",
    "        cls,  # The APIKey class\n",
    "        data: Dict[str, Any]  # Dictionary containing serialized key data\n",
    "    ) -> 'APIKey':  # Reconstructed APIKey instance\n",
    "        \"\"\"Create from dictionary\"\"\"\n",
    "        return cls(\n",
    "            provider=data['provider'],\n",
    "            encrypted_value=bytes.fromhex(data['encrypted_value']),\n",
    "            created_at=datetime.fromisoformat(data['created_at']),\n",
    "            expires_at=datetime.fromisoformat(data['expires_at']) if data.get('expires_at') else None,\n",
    "            user_id=data.get('user_id')\n",
    "        )"
   ]
  },
  {
   "cell_type": "markdown",
   "id": "0bc6fabe",
   "metadata": {},
   "source": [
    "## Storage Protocol"
   ]
  },
  {
   "cell_type": "code",
   "execution_count": null,
   "id": "e2f4a72f",
   "metadata": {},
   "outputs": [],
   "source": [
    "#| export\n",
    "@runtime_checkable\n",
    "class KeyStorage(Protocol):\n",
    "    \"\"\"Protocol for key storage implementations\"\"\"\n",
    "    \n",
    "    def store(\n",
    "        self,\n",
    "        request: Any,  # FastHTML/Starlette request object\n",
    "        key: APIKey  # API key object to store\n",
    "    ) -> None:\n",
    "        \"\"\"Store an API key\"\"\"\n",
    "        ...\n",
    "    \n",
    "    def retrieve(\n",
    "        self,\n",
    "        request: Any,  # FastHTML/Starlette request object\n",
    "        provider: str,  # Provider name to retrieve key for\n",
    "        user_id: Optional[str] = None  # Optional user ID for database lookup\n",
    "    ) -> Optional[APIKey]:  # API key object if found, None otherwise\n",
    "        \"\"\"Retrieve an API key for a provider\"\"\"\n",
    "        ...\n",
    "    \n",
    "    def delete(\n",
    "        self,\n",
    "        request: Any,  # FastHTML/Starlette request object\n",
    "        provider: str,  # Provider name to delete key for\n",
    "        user_id: Optional[str] = None  # Optional user ID for database deletion\n",
    "    ) -> None:\n",
    "        \"\"\"Delete an API key\"\"\"\n",
    "        ...\n",
    "    \n",
    "    def list_providers(\n",
    "        self,\n",
    "        request: Any,  # FastHTML/Starlette request object\n",
    "        user_id: Optional[str] = None  # Optional user ID for database lookup\n",
    "    ) -> list[str]:  # List of provider names with stored keys\n",
    "        \"\"\"List all stored providers\"\"\"\n",
    "        ...\n",
    "    \n",
    "    def clear_all(\n",
    "        self,\n",
    "        request: Any,  # FastHTML/Starlette request object\n",
    "        user_id: Optional[str] = None  # Optional user ID for database clearing\n",
    "    ) -> None:\n",
    "        \"\"\"Clear all stored keys\"\"\"\n",
    "        ..."
   ]
  },
  {
   "cell_type": "markdown",
   "id": "f01e14bf",
   "metadata": {},
   "source": [
    "## Configuration"
   ]
  },
  {
   "cell_type": "code",
   "execution_count": null,
   "id": "3528c4a2",
   "metadata": {},
   "outputs": [],
   "source": [
    "#| export\n",
    "@dataclass\n",
    "class BYOKConfig:\n",
    "    \"\"\"Configuration for the BYOK system\"\"\"\n",
    "    storage_backend: StorageBackend = StorageBackend.SESSION\n",
    "    encryption_key: Optional[bytes] = None  # If None, will be generated\n",
    "    default_ttl: Optional[timedelta] = timedelta(hours=24)  # Default key expiration\n",
    "    session_key_prefix: str = \"byok_\"  # Prefix for session storage keys\n",
    "    db_table_name: str = \"user_api_keys\"  # Database table name\n",
    "    auto_cleanup: bool = True  # Auto-cleanup expired keys\n",
    "    require_https: bool = True  # Warn if not using HTTPS in production"
   ]
  },
  {
   "cell_type": "markdown",
   "id": "e451d6fb",
   "metadata": {},
   "source": [
    "## Database Schema"
   ]
  },
  {
   "cell_type": "code",
   "execution_count": null,
   "id": "81059211",
   "metadata": {},
   "outputs": [],
   "source": [
    "#| export\n",
    "class UserAPIKey:\n",
    "    \"\"\"Database schema for persistent API key storage (for use with fastsql)\"\"\"\n",
    "    id: int\n",
    "    user_id: str\n",
    "    provider: str\n",
    "    encrypted_value: str  # Hex-encoded encrypted value\n",
    "    created_at: str  # ISO format datetime\n",
    "    expires_at: str = \"\"  # ISO format datetime (empty string if no expiration)"
   ]
  },
  {
   "cell_type": "markdown",
   "id": "859f3d24",
   "metadata": {},
   "source": [
    "## Exceptions"
   ]
  },
  {
   "cell_type": "code",
   "execution_count": null,
   "id": "ea9eb656",
   "metadata": {},
   "outputs": [],
   "source": [
    "#| export\n",
    "class BYOKException(Exception):\n",
    "    \"\"\"Base exception for BYOK errors\"\"\"\n",
    "    pass\n",
    "\n",
    "class EncryptionError(BYOKException):\n",
    "    \"\"\"Error during encryption/decryption\"\"\"\n",
    "    pass\n",
    "\n",
    "class StorageError(BYOKException):\n",
    "    \"\"\"Error during storage operations\"\"\"\n",
    "    pass\n",
    "\n",
    "class KeyNotFoundError(BYOKException):\n",
    "    \"\"\"Requested key not found\"\"\"\n",
    "    pass\n",
    "\n",
    "class SecurityWarning(BYOKException):\n",
    "    \"\"\"Security-related warning\"\"\"\n",
    "    pass"
   ]
  },
  {
   "cell_type": "code",
   "execution_count": null,
   "id": "a4058c34",
   "metadata": {},
   "outputs": [],
   "source": [
    "#| hide\n",
    "import nbdev; nbdev.nbdev_export()"
   ]
  }
 ],
 "metadata": {
  "kernelspec": {
   "display_name": "python3",
   "language": "python",
   "name": "python3"
  }
 },
 "nbformat": 4,
 "nbformat_minor": 5
}
