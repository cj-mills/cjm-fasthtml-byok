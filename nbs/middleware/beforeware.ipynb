{
 "cells": [
  {
   "cell_type": "markdown",
   "id": "4ddd5b15",
   "metadata": {},
   "source": [
    "# Beforeware\n",
    "\n",
    "> FastHTML beforeware for API key management"
   ]
  },
  {
   "cell_type": "code",
   "execution_count": null,
   "id": "6f7a0c23",
   "metadata": {},
   "outputs": [],
   "source": [
    "#| default_exp middleware.beforeware"
   ]
  },
  {
   "cell_type": "code",
   "execution_count": null,
   "id": "7a86907c",
   "metadata": {},
   "outputs": [],
   "source": [
    "#| hide\n",
    "from nbdev.showdoc import *"
   ]
  },
  {
   "cell_type": "code",
   "execution_count": null,
   "id": "71233554",
   "metadata": {},
   "outputs": [],
   "source": [
    "#| export\n",
    "from typing import Optional, List, Callable, Any\n",
    "from functools import wraps\n",
    "\n",
    "from cjm_fasthtml_byok.core.storage import BYOKManager\n",
    "from cjm_fasthtml_byok.core.security import validate_environment\n",
    "from cjm_fasthtml_byok.core.types import KeyNotFoundError"
   ]
  },
  {
   "cell_type": "markdown",
   "id": "1a51f7cf",
   "metadata": {},
   "source": [
    "## Beforeware Functions"
   ]
  },
  {
   "cell_type": "code",
   "execution_count": null,
   "id": "00ec3a92",
   "metadata": {},
   "outputs": [],
   "source": "#| export\ndef create_byok_beforeware(\n    byok_manager: BYOKManager  # The BYOK manager instance\n):\n    \"\"\"Create a FastHTML beforeware handler for BYOK functionality.\"\"\"\n    def handler(\n        req,  # FastHTML request object\n        sess  # Session object\n    ):\n        \"\"\"\n        FastHTML beforeware function.\n        Adds byok manager to request scope.\n        \"\"\"\n        req.scope['byok'] = byok_manager\n        # Don't return anything! FastHTML expects None for success\n    \n    return handler"
  },
  {
   "cell_type": "markdown",
   "id": "6e60ab59",
   "metadata": {},
   "source": [
    "## Route Decorators"
   ]
  },
  {
   "cell_type": "code",
   "execution_count": null,
   "id": "371616ad",
   "metadata": {},
   "outputs": [],
   "source": "#| export\ndef require_api_key(\n    provider: str,  # The provider name to check for\n    user_id_func: Optional[Callable] = None  # Optional function to get user_id from request Usage: @rt @require_api_key(\"openai\") def chat(request): byok = request.scope['byok'] api_key = byok.get_key(request, \"openai\") # Use the API key...\n):\n    \"\"\"Decorator that requires an API key to be present for a route.\"\"\"\n    def decorator(\n        func: Callable  # The route handler function to decorate\n    ):\n        \"\"\"Decorator function that wraps the route handler\"\"\"\n        @wraps(func)\n        def wrapper(\n            request: Any,  # FastHTML request object\n            *args,\n            **kwargs\n        ):\n            \"\"\"Wrapper that checks for API key before calling the route handler\"\"\"\n            if 'byok' not in request.scope:\n                raise RuntimeError(\"BYOK beforeware not configured\")\n            \n            byok = request.scope['byok']\n            user_id = user_id_func(request) if user_id_func else None\n            \n            if not byok.has_key(request, provider, user_id):\n                from fasthtml.common import Titled, Card, P, A\n                return Titled(\n                    \"API Key Required\",\n                    Card(\n                        P(f\"Please provide your {provider} API key to continue.\"),\n                        A(\"Configure API Keys\", href=\"/settings/api-keys\")\n                    )\n                )\n            \n            return func(request, *args, **kwargs)\n        return wrapper\n    return decorator"
  },
  {
   "cell_type": "code",
   "execution_count": null,
   "id": "496c18e1",
   "metadata": {},
   "outputs": [],
   "source": "#| export\ndef require_any_api_key(\n    providers: List[str],  # List of provider names to check\n    user_id_func: Optional[Callable] = None  # Optional function to get user_id from request Usage: @rt @require_any_api_key([\"openai\", \"anthropic\", \"google\"]) def chat(request): # Use whichever API key is available pass\n):\n    \"\"\"Decorator that requires at least one of the specified API keys.\"\"\"\n    def decorator(\n        func: Callable  # The route handler function to decorate\n    ):\n        \"\"\"Decorator function that wraps the route handler\"\"\"\n        @wraps(func)\n        def wrapper(\n            request: Any,  # FastHTML request object\n            *args,\n            **kwargs\n        ):\n            \"\"\"Wrapper that checks for any API key before calling the route handler\"\"\"\n            if 'byok' not in request.scope:\n                raise RuntimeError(\"BYOK beforeware not configured\")\n            \n            byok = request.scope['byok']\n            user_id = user_id_func(request) if user_id_func else None\n            \n            # Check if any of the providers has a key\n            has_any = any(\n                byok.has_key(request, provider, user_id)\n                for provider in providers\n            )\n            \n            if not has_any:\n                from fasthtml.common import Titled, Card, P, Ul, Li, A\n                return Titled(\n                    \"API Key Required\",\n                    Card(\n                        P(\"Please provide at least one of the following API keys:\"),\n                        Ul(*[Li(provider) for provider in providers]),\n                        A(\"Configure API Keys\", href=\"/settings/api-keys\")\n                    )\n                )\n            \n            return func(request, *args, **kwargs)\n        return wrapper\n    return decorator"
  },
  {
   "cell_type": "markdown",
   "id": "2cfba87b",
   "metadata": {},
   "source": [
    "## Security Beforeware"
   ]
  },
  {
   "cell_type": "code",
   "execution_count": null,
   "id": "aef0cefe",
   "metadata": {},
   "outputs": [],
   "source": "#| export\nclass SecurityCheckBeforeware:\n    \"\"\"\n    Beforeware that performs security checks.\n    \"\"\"\n    \n    def __init__(\n        self,\n        require_https: bool = True,  # Whether to require HTTPS in production\n        is_production: Optional[bool] = None  # Whether running in production (auto-detected if None)\n    ):\n        \"\"\"Initialize security check beforeware with HTTPS requirements\"\"\"\n        self.require_https = require_https\n        self.is_production = is_production\n    \n    def __call__(\n        self,\n        request: Any,  # FastHTML request object\n        session: Any  # Session object\n    ):\n        \"\"\"\n        Validate security environment on each request.\n        \"\"\"\n        try:\n            validate_environment(\n                request,\n                require_https=self.require_https,\n                is_production=self.is_production\n            )\n        except Exception:\n            # Log but don't block requests\n            pass\n        \n        return request, session"
  },
  {
   "cell_type": "markdown",
   "id": "a1ce5341",
   "metadata": {},
   "source": [
    "## Cleanup Beforeware"
   ]
  },
  {
   "cell_type": "code",
   "execution_count": null,
   "id": "0b6b89ca",
   "metadata": {},
   "outputs": [],
   "source": "#| export\nclass CleanupBeforeware:\n    \"\"\"\n    Beforeware that cleans up expired keys.\n    \"\"\"\n    \n    def __init__(\n        self,\n        byok_manager: BYOKManager,  # The BYOK manager instance\n        user_id_func: Optional[Callable] = None  # Optional function to get user_id from request\n    ):\n        \"\"\"Initialize cleanup beforeware with BYOK manager\"\"\"\n        self.byok = byok_manager\n        self.user_id_func = user_id_func\n    \n    def __call__(\n        self,\n        request: Any,  # FastHTML request object\n        session: Any  # Session object\n    ):\n        \"\"\"\n        Clean up expired keys on each request.\n        \"\"\"\n        if self.byok.config.auto_cleanup:\n            try:\n                user_id = self.user_id_func(request) if self.user_id_func else None\n                providers = self.byok.list_providers(request, user_id)\n                \n                # Check each provider and let storage handle expiration\n                for provider in providers:\n                    self.byok.get_key(request, provider, user_id)\n            except Exception:\n                # Don't block requests due to cleanup errors\n                pass\n        \n        return request, session"
  },
  {
   "cell_type": "markdown",
   "id": "5c7373a9",
   "metadata": {},
   "source": [
    "## Complete Setup Helper"
   ]
  },
  {
   "cell_type": "code",
   "execution_count": null,
   "id": "33b4ce87",
   "metadata": {},
   "outputs": [],
   "source": "#| export\ndef setup_byok(\n    secret_key: str,  # Application secret key\n    db: Optional[Any] = None,  # Optional database for persistent storage\n    user_id_func: Optional[Callable] = None,  # Optional function to get user_id from request\n    enable_security_checks: bool = True,  # Enable HTTPS checking\n    enable_cleanup: bool = True  # Enable automatic cleanup of expired keys\n):\n    \"\"\"Complete setup helper for BYOK with FastHTML. Returns beforeware functions and the BYOK manager.\"\"\"\n    from cjm_fasthtml_byok.core.types import BYOKConfig\n    \n    # Create manager\n    byok = BYOKManager(secret_key, db)\n    \n    # Create list of beforeware handlers\n    beforeware_list = []\n    \n    # Add main BYOK beforeware\n    beforeware_list.append(create_byok_beforeware(byok))\n    \n    if enable_security_checks:\n        security_handler = SecurityCheckBeforeware()\n        beforeware_list.append(security_handler)\n    \n    if enable_cleanup:\n        cleanup_handler = CleanupBeforeware(byok, user_id_func)\n        beforeware_list.append(cleanup_handler)\n    \n    return beforeware_list, byok"
  },
  {
   "cell_type": "code",
   "execution_count": null,
   "id": "4b56f9c0",
   "metadata": {},
   "outputs": [],
   "source": [
    "#| hide\n",
    "import nbdev; nbdev.nbdev_export()"
   ]
  }
 ],
 "metadata": {
  "kernelspec": {
   "display_name": "python3",
   "language": "python",
   "name": "python3"
  }
 },
 "nbformat": 4,
 "nbformat_minor": 5
}
