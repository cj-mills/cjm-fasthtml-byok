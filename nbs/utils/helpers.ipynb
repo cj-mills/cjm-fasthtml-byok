{
 "cells": [
  {
   "cell_type": "markdown",
   "id": "ae4eaa17",
   "metadata": {},
   "source": [
    "# Helpers\n",
    "\n",
    "> Helper functions for BYOK system"
   ]
  },
  {
   "cell_type": "code",
   "execution_count": null,
   "id": "3d63efe7",
   "metadata": {},
   "outputs": [],
   "source": [
    "#| default_exp utils.helpers"
   ]
  },
  {
   "cell_type": "code",
   "execution_count": null,
   "id": "ca46f62d",
   "metadata": {},
   "outputs": [],
   "source": [
    "#| hide\n",
    "from nbdev.showdoc import *"
   ]
  },
  {
   "cell_type": "code",
   "execution_count": null,
   "id": "0c486fed",
   "metadata": {},
   "outputs": [],
   "source": [
    "#| export\n",
    "from typing import Dict, List, Optional, Any\n",
    "from datetime import datetime, timedelta\n",
    "import re\n",
    "\n",
    "from cjm_fasthtml_byok.core.security import mask_key, get_key_fingerprint"
   ]
  },
  {
   "cell_type": "markdown",
   "id": "9a93be9f",
   "metadata": {},
   "source": [
    "## Provider Helpers"
   ]
  },
  {
   "cell_type": "code",
   "execution_count": null,
   "id": "9729d40c",
   "metadata": {},
   "outputs": [],
   "source": "#| export\ndef get_provider_info(\n    provider: str,  # Provider identifier\n    provider_config: Optional[Dict[str, Any]] = None  # Optional provider configuration\n) -> Dict[str, Any]:  # Provider info dict with defaults\n    \"\"\"Get provider information from config or generate defaults.\"\"\"\n    if provider_config and provider in provider_config:\n        return provider_config[provider]\n    \n    # Generate sensible defaults based on provider name\n    return {\n        'name': provider.replace('_', ' ').replace('-', ' ').title(),\n        'key_prefix': None,\n        'docs_url': None,\n        'placeholder': f'Enter your {provider.replace(\"_\", \" \").replace(\"-\", \" \").title()} API key'\n    }"
  },
  {
   "cell_type": "markdown",
   "id": "c0f33870",
   "metadata": {},
   "source": [
    "## Format Helpers"
   ]
  },
  {
   "cell_type": "code",
   "execution_count": null,
   "id": "31c639ef",
   "metadata": {},
   "outputs": [],
   "source": "#| export\ndef format_provider_name(\n    provider: str,  # Provider identifier\n    provider_config: Optional[Dict[str, Any]] = None  # Optional provider configuration\n) -> str:  # Formatted provider name\n    \"\"\"Format provider name for display.\"\"\"\n    info = get_provider_info(provider, provider_config)\n    return info['name']"
  },
  {
   "cell_type": "code",
   "execution_count": null,
   "id": "b0d1d1b4",
   "metadata": {},
   "outputs": [],
   "source": "#| export\ndef format_key_age(\n    created_at: datetime  # When the key was created\n) -> str:  # Human-readable age string\n    \"\"\"Format the age of a key for display.\"\"\"\n    age = datetime.now() - created_at\n    \n    if age.days > 30:\n        months = age.days // 30\n        return f\"{months} month{'s' if months > 1 else ''} ago\"\n    elif age.days > 0:\n        return f\"{age.days} day{'s' if age.days > 1 else ''} ago\"\n    elif age.seconds > 3600:\n        hours = age.seconds // 3600\n        return f\"{hours} hour{'s' if hours > 1 else ''} ago\"\n    elif age.seconds > 60:\n        minutes = age.seconds // 60\n        return f\"{minutes} minute{'s' if minutes > 1 else ''} ago\"\n    else:\n        return \"Just now\""
  },
  {
   "cell_type": "code",
   "execution_count": null,
   "id": "6a0a0b17",
   "metadata": {},
   "outputs": [],
   "source": "#| export\ndef format_expiration(\n    expires_at: Optional[datetime]  # Expiration datetime\n) -> str:  # Human-readable expiration string\n    \"\"\"Format expiration time for display.\"\"\"\n    if not expires_at:\n        return \"Never\"\n    \n    if expires_at <= datetime.now():\n        return \"Expired\"\n    \n    remaining = expires_at - datetime.now()\n    \n    if remaining.days > 0:\n        return f\"Expires in {remaining.days} day{'s' if remaining.days > 1 else ''}\"\n    elif remaining.seconds > 3600:\n        hours = remaining.seconds // 3600\n        return f\"Expires in {hours} hour{'s' if hours > 1 else ''}\"\n    else:\n        minutes = remaining.seconds // 60\n        return f\"Expires in {minutes} minute{'s' if minutes > 1 else ''}\""
  },
  {
   "cell_type": "markdown",
   "id": "7b5ce9e4",
   "metadata": {},
   "source": [
    "## Key Summary"
   ]
  },
  {
   "cell_type": "code",
   "execution_count": null,
   "id": "ed717790",
   "metadata": {},
   "outputs": [],
   "source": "#| export\ndef get_key_summary(\n    byok_manager,  # BYOK manager instance\n    request,  # FastHTML request\n    user_id: Optional[str] = None,  # Optional user ID\n    provider_config: Optional[Dict[str, Any]] = None  # Optional provider configuration\n) -> Dict[str, Any]:  # Summary dictionary with provider info\n    \"\"\"Get a summary of all stored keys.\"\"\"\n    providers = byok_manager.list_providers(request, user_id)\n    summary = []\n    \n    for provider in providers:\n        # Get the key metadata (without decrypting)\n        key_obj = byok_manager.storage.retrieve(request, provider, user_id)\n        if key_obj:\n            # Get the actual key for masking\n            actual_key = byok_manager.get_key(request, provider, user_id)\n            \n            summary.append({\n                'provider': provider,\n                'display_name': format_provider_name(provider, provider_config),\n                'masked_key': mask_key(actual_key) if actual_key else 'N/A',\n                'fingerprint': get_key_fingerprint(actual_key) if actual_key else 'N/A',\n                'created': format_key_age(key_obj.created_at),\n                'expires': format_expiration(key_obj.expires_at),\n                'is_expired': key_obj.is_expired\n            })\n    \n    return {\n        'count': len(summary),\n        'keys': summary\n    }"
  },
  {
   "cell_type": "markdown",
   "id": "7f5db95b",
   "metadata": {},
   "source": [
    "## Environment Helpers"
   ]
  },
  {
   "cell_type": "code",
   "execution_count": null,
   "id": "49657363",
   "metadata": {},
   "outputs": [],
   "source": "#| export\ndef get_env_key(\n    provider: str,  # Provider name\n    env_prefix: str = \"API_KEY_\"  # Environment variable prefix\n) -> Optional[str]:  # API key from environment or None\n    \"\"\"Get an API key from environment variables.\"\"\"\n    import os\n    env_var = f\"{env_prefix}{provider.upper()}\"\n    return os.environ.get(env_var)"
  },
  {
   "cell_type": "code",
   "execution_count": null,
   "id": "24f708e2",
   "metadata": {},
   "outputs": [],
   "source": "#| export\ndef import_from_env(\n    byok_manager,  # BYOK manager instance\n    request,  # FastHTML request\n    providers: List[str],  # List of providers to check\n    user_id: Optional[str] = None,  # Optional user ID\n    env_prefix: str = \"API_KEY_\"  # Environment variable prefix\n) -> Dict[str, bool]:  # Dict of provider: success status\n    \"\"\"Import API keys from environment variables.\"\"\"\n    results = {}\n    \n    for provider in providers:\n        key = get_env_key(provider, env_prefix)\n        if key:\n            try:\n                byok_manager.set_key(request, provider, key, user_id)\n                results[provider] = True\n            except Exception:\n                results[provider] = False\n        else:\n            results[provider] = False\n    \n    return results"
  },
  {
   "cell_type": "markdown",
   "id": "03ab67d5",
   "metadata": {},
   "source": [
    "## Tests"
   ]
  },
  {
   "cell_type": "code",
   "execution_count": null,
   "id": "5f190453",
   "metadata": {},
   "outputs": [
    {
     "name": "stdout",
     "output_type": "stream",
     "text": [
      "✓ Provider info (no config): My Custom Provider\n",
      "✓ Provider info (with config): OpenAI GPT\n",
      "✓ Provider name formatting\n",
      "✓ Age formatting\n",
      "✓ Expiration formatting\n"
     ]
    }
   ],
   "source": [
    "# Test provider info with no config\n",
    "info = get_provider_info('my_custom_provider')\n",
    "assert info['name'] == 'My Custom Provider'\n",
    "assert info['placeholder'] == 'Enter your My Custom Provider API key'\n",
    "print(f\"✓ Provider info (no config): {info['name']}\")\n",
    "\n",
    "# Test with custom config\n",
    "custom_config = {\n",
    "    'openai': {\n",
    "        'name': 'OpenAI GPT',\n",
    "        'key_prefix': 'sk-',\n",
    "        'docs_url': 'https://platform.openai.com/api-keys',\n",
    "        'placeholder': 'sk-...'\n",
    "    }\n",
    "}\n",
    "info = get_provider_info('openai', custom_config)\n",
    "assert info['name'] == 'OpenAI GPT'\n",
    "assert info['key_prefix'] == 'sk-'\n",
    "print(f\"✓ Provider info (with config): {info['name']}\")\n",
    "\n",
    "# Test formatting\n",
    "assert format_provider_name('test_provider') == 'Test Provider'\n",
    "assert format_provider_name('api-service') == 'Api Service'\n",
    "print(\"✓ Provider name formatting\")\n",
    "\n",
    "# Test age formatting\n",
    "now = datetime.now()\n",
    "assert format_key_age(now) == \"Just now\"\n",
    "assert format_key_age(now - timedelta(hours=2)) == \"2 hours ago\"\n",
    "assert format_key_age(now - timedelta(days=5)) == \"5 days ago\"\n",
    "print(\"✓ Age formatting\")\n",
    "\n",
    "# Test expiration formatting\n",
    "assert format_expiration(None) == \"Never\"\n",
    "assert format_expiration(now - timedelta(hours=1)) == \"Expired\"\n",
    "assert \"Expires in\" in format_expiration(now + timedelta(hours=5))\n",
    "print(\"✓ Expiration formatting\")"
   ]
  },
  {
   "cell_type": "code",
   "execution_count": null,
   "id": "ebfe6342",
   "metadata": {},
   "outputs": [],
   "source": [
    "#| hide\n",
    "import nbdev; nbdev.nbdev_export()"
   ]
  }
 ],
 "metadata": {
  "kernelspec": {
   "display_name": "python3",
   "language": "python",
   "name": "python3"
  }
 },
 "nbformat": 4,
 "nbformat_minor": 5
}
