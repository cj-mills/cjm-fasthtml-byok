{
 "cells": [
  {
   "cell_type": "markdown",
   "id": "8dadb86f",
   "metadata": {},
   "source": [
    "# Forms\n",
    "\n",
    "> FastHTML form components for API key input and management"
   ]
  },
  {
   "cell_type": "code",
   "execution_count": null,
   "id": "65b3dfe9",
   "metadata": {},
   "outputs": [],
   "source": [
    "#| default_exp components.forms"
   ]
  },
  {
   "cell_type": "code",
   "execution_count": null,
   "id": "ac6020f4",
   "metadata": {},
   "outputs": [],
   "source": [
    "#| hide\n",
    "from nbdev.showdoc import *"
   ]
  },
  {
   "cell_type": "code",
   "execution_count": null,
   "id": "f7631725",
   "metadata": {},
   "outputs": [],
   "source": [
    "#| export\n",
    "from typing import Optional, List, Dict, Any, Callable\n",
    "from fasthtml.common import Form, Div, Input, Label, Button, Span, P, Select, Option, Details, Summary\n",
    "\n",
    "# daisyUI imports\n",
    "from cjm_fasthtml_daisyui.components.data_input.text_input import text_input, text_input_colors\n",
    "from cjm_fasthtml_daisyui.components.data_input.fieldset import fieldset, label as fieldset_label\n",
    "from cjm_fasthtml_daisyui.components.data_input.select import select, select_colors\n",
    "from cjm_fasthtml_daisyui.components.actions.button import btn, btn_colors, btn_sizes\n",
    "from cjm_fasthtml_daisyui.components.feedback.alert import alert, alert_colors\n",
    "from cjm_fasthtml_daisyui.components.data_display.card import card, card_body, card_title, card_actions\n",
    "\n",
    "# Tailwind imports\n",
    "from cjm_fasthtml_tailwind.utilities.flexbox_and_grid import gap, flex_display, flex_direction, grow\n",
    "from cjm_fasthtml_tailwind.utilities.spacing import space, m, p\n",
    "from cjm_fasthtml_tailwind.utilities.sizing import w\n",
    "from cjm_fasthtml_tailwind.core.base import combine_classes\n",
    "\n",
    "from cjm_fasthtml_byok.utils.helpers import get_provider_info, format_provider_name\n",
    "from cjm_fasthtml_byok.core.security import mask_key"
   ]
  },
  {
   "cell_type": "code",
   "execution_count": null,
   "id": "28a7857c-1556-47e9-8383-3ea861a8fc1e",
   "metadata": {},
   "outputs": [],
   "source": [
    "#| export\n",
    "from fasthtml.common import Div\n",
    "from fasthtml.jupyter import JupyUvi, HTMX\n",
    "from cjm_fasthtml_daisyui.core.testing import create_test_app, create_test_page, start_test_server\n",
    "from cjm_fasthtml_daisyui.core.themes import DaisyUITheme\n",
    "from IPython.display import display"
   ]
  },
  {
   "cell_type": "markdown",
   "id": "22d556ba",
   "metadata": {},
   "source": [
    "## Basic Key Input Form"
   ]
  },
  {
   "cell_type": "code",
   "execution_count": null,
   "id": "ca8d2019",
   "metadata": {},
   "outputs": [],
   "source": [
    "#| export\n",
    "def KeyInputForm(\n",
    "    provider: str = \"openai\",  # The API provider identifier\n",
    "    action: Optional[str] = None,  # Form action URL (defaults to /api/keys/{provider})\n",
    "    method: str = \"post\",  # HTTP method (default: \"post\")\n",
    "    show_help: bool = True,  # Whether to show help text\n",
    "    custom_placeholder: Optional[str] = None,  # Custom placeholder text\n",
    "    extra_fields: Optional[List[tuple]] = None  # Additional form fields as [(name, type, placeholder, required), ...]\n",
    ") -> Form:  # FastHTML Form component\n",
    "    \"Create a form for inputting an API key.\"\n",
    "    provider_info = get_provider_info(provider)\n",
    "    placeholder = custom_placeholder or provider_info['placeholder']\n",
    "    action_url = action or f\"/api/keys/{provider}\"\n",
    "    \n",
    "    form_fields = []\n",
    "    \n",
    "    # Main API key field\n",
    "    form_fields.append(\n",
    "        Div(\n",
    "            Label(\n",
    "                Span(f\"{provider_info['name']} API Key\"),\n",
    "                Input(\n",
    "                    type=\"password\",\n",
    "                    name=\"api_key\",\n",
    "                    placeholder=placeholder,\n",
    "                    cls=combine_classes(text_input, w.full),\n",
    "                    required=True,\n",
    "                    autocomplete=\"off\"\n",
    "                )\n",
    "            ),\n",
    "            P(\n",
    "                \"Your API key will be encrypted and stored securely\" if show_help else \"\",\n",
    "                cls=str(fieldset_label) if show_help else None\n",
    "            ) if show_help else None,\n",
    "            cls=str(fieldset)\n",
    "        )\n",
    "    )\n",
    "    \n",
    "    # Add extra fields if provided\n",
    "    if extra_fields:\n",
    "        for field_name, field_type, field_placeholder, field_required in extra_fields:\n",
    "            form_fields.append(\n",
    "                Div(\n",
    "                    Label(\n",
    "                        Span(field_name.replace('_', ' ').title()),\n",
    "                        Input(\n",
    "                            type=field_type,\n",
    "                            name=field_name,\n",
    "                            placeholder=field_placeholder,\n",
    "                            cls=combine_classes(text_input, w.full),\n",
    "                            required=field_required\n",
    "                        )\n",
    "                    ),\n",
    "                    cls=str(fieldset)\n",
    "                )\n",
    "            )\n",
    "    \n",
    "    # Add submit button\n",
    "    form_fields.append(\n",
    "        Button(\n",
    "            \"Save Key\",\n",
    "            type=\"submit\",\n",
    "            cls=combine_classes(btn, btn_colors.primary)\n",
    "        )\n",
    "    )\n",
    "    \n",
    "    return Form(\n",
    "        *form_fields,\n",
    "        method=method,\n",
    "        action=action_url,\n",
    "        cls=combine_classes(flex_display, flex_direction.col, gap._4)\n",
    "    )"
   ]
  },
  {
   "cell_type": "code",
   "execution_count": null,
   "id": "9c2df94a-59cf-4121-8fe7-a4666d968036",
   "metadata": {},
   "outputs": [
    {
     "data": {
      "text/html": [
       "\n",
       "<script>\n",
       "document.body.addEventListener('htmx:configRequest', (event) => {\n",
       "    if(event.detail.path.includes('://')) return;\n",
       "    htmx.config.selfRequestsOnly=false;\n",
       "    event.detail.path = `${location.protocol}//${location.hostname}:8000${event.detail.path}`;\n",
       "});\n",
       "</script>"
      ],
      "text/plain": [
       "<IPython.core.display.HTML object>"
      ]
     },
     "metadata": {},
     "output_type": "display_data"
    },
    {
     "data": {
      "text/html": [
       "<iframe src=\"http://localhost:8000/\" style=\"width: 100%; height: auto; border: none;\" onload=\"{\n",
       "        let frame = this;\n",
       "        window.addEventListener('message', function(e) {\n",
       "            if (e.source !== frame.contentWindow) return; // Only proceed if the message is from this iframe\n",
       "            if (e.data.height) frame.style.height = (e.data.height+1) + 'px';\n",
       "        }, false);\n",
       "    }\" allow=\"accelerometer; autoplay; camera; clipboard-read; clipboard-write; display-capture; encrypted-media; fullscreen; gamepad; geolocation; gyroscope; hid; identity-credentials-get; idle-detection; magnetometer; microphone; midi; payment; picture-in-picture; publickey-credentials-get; screen-wake-lock; serial; usb; web-share; xr-spatial-tracking\"></iframe> "
      ],
      "text/plain": [
       "<IPython.core.display.HTML object>"
      ]
     },
     "metadata": {},
     "output_type": "display_data"
    }
   ],
   "source": [
    "#| eval: false\n",
    "#| output: false\n",
    "test_func = KeyInputForm\n",
    "app, rt = create_test_app(theme=DaisyUITheme.LIGHT)\n",
    "\n",
    "@rt\n",
    "def index():\n",
    "    return create_test_page(test_func.__doc__.title().split('.')[0].strip(), test_func())\n",
    "server = start_test_server(app)\n",
    "display(HTMX())\n",
    "server.stop()"
   ]
  },
  {
   "cell_type": "markdown",
   "id": "b0001fee",
   "metadata": {},
   "source": [
    "## Multi-Provider Key Form"
   ]
  },
  {
   "cell_type": "code",
   "execution_count": null,
   "id": "9d7ae245",
   "metadata": {},
   "outputs": [],
   "source": [
    "#| export\n",
    "def MultiProviderKeyForm(\n",
    "    providers: List[str],  # List of provider identifiers\n",
    "    action: str = \"/api/keys\",  # Form action URL\n",
    "    method: str = \"post\",  # HTTP method\n",
    "    default_provider: Optional[str] = None  # Initially selected provider\n",
    ") -> Form:  # FastHTML Form component with provider selection\n",
    "    \"Create a form that allows selecting from multiple providers.\"\n",
    "    default = default_provider or (providers[0] if providers else None)\n",
    "    \n",
    "    return Form(\n",
    "        Div(\n",
    "            # Provider selection\n",
    "            Div(\n",
    "                Label(\n",
    "                    Span(\"Select Provider\"),\n",
    "                    Select(\n",
    "                        *[\n",
    "                            Option(\n",
    "                                format_provider_name(p),\n",
    "                                value=p,\n",
    "                                selected=(p == default)\n",
    "                            )\n",
    "                            for p in providers\n",
    "                        ],\n",
    "                        name=\"provider\",\n",
    "                        cls=combine_classes(select, w.full),\n",
    "                        required=True,\n",
    "                        id=\"provider-select\",\n",
    "                        onchange=\"updatePlaceholder(this)\"\n",
    "                    )\n",
    "                ),\n",
    "                cls=str(fieldset)\n",
    "            ),\n",
    "            # API key input\n",
    "            Div(\n",
    "                Label(\n",
    "                    Span(\"API Key\"),\n",
    "                    Input(\n",
    "                        type=\"password\",\n",
    "                        name=\"api_key\",\n",
    "                        placeholder=get_provider_info(default)['placeholder'] if default else \"Your API key\",\n",
    "                        cls=combine_classes(text_input, w.full),\n",
    "                        required=True,\n",
    "                        id=\"api-key-input\",\n",
    "                        autocomplete=\"off\"\n",
    "                    )\n",
    "                ),\n",
    "                P(\"Your API key will be encrypted and stored securely\", cls=str(fieldset_label)),\n",
    "                cls=str(fieldset)\n",
    "            ),\n",
    "            cls=combine_classes(flex_display, flex_direction.col, gap._4)\n",
    "        ),\n",
    "        Button(\n",
    "            \"Save Key\",\n",
    "            type=\"submit\",\n",
    "            cls=combine_classes(btn, btn_colors.primary, w.full)\n",
    "        ),\n",
    "        method=method,\n",
    "        action=action,\n",
    "        cls=combine_classes(flex_display, flex_direction.col, gap._4)\n",
    "    )"
   ]
  },
  {
   "cell_type": "code",
   "execution_count": null,
   "id": "9debbccf-d0d8-46fb-9b7e-170220f4da38",
   "metadata": {},
   "outputs": [
    {
     "data": {
      "text/html": [
       "\n",
       "<script>\n",
       "document.body.addEventListener('htmx:configRequest', (event) => {\n",
       "    if(event.detail.path.includes('://')) return;\n",
       "    htmx.config.selfRequestsOnly=false;\n",
       "    event.detail.path = `${location.protocol}//${location.hostname}:8000${event.detail.path}`;\n",
       "});\n",
       "</script>"
      ],
      "text/plain": [
       "<IPython.core.display.HTML object>"
      ]
     },
     "metadata": {},
     "output_type": "display_data"
    },
    {
     "data": {
      "text/html": [
       "<iframe src=\"http://localhost:8000/\" style=\"width: 100%; height: auto; border: none;\" onload=\"{\n",
       "        let frame = this;\n",
       "        window.addEventListener('message', function(e) {\n",
       "            if (e.source !== frame.contentWindow) return; // Only proceed if the message is from this iframe\n",
       "            if (e.data.height) frame.style.height = (e.data.height+1) + 'px';\n",
       "        }, false);\n",
       "    }\" allow=\"accelerometer; autoplay; camera; clipboard-read; clipboard-write; display-capture; encrypted-media; fullscreen; gamepad; geolocation; gyroscope; hid; identity-credentials-get; idle-detection; magnetometer; microphone; midi; payment; picture-in-picture; publickey-credentials-get; screen-wake-lock; serial; usb; web-share; xr-spatial-tracking\"></iframe> "
      ],
      "text/plain": [
       "<IPython.core.display.HTML object>"
      ]
     },
     "metadata": {},
     "output_type": "display_data"
    }
   ],
   "source": [
    "#| eval: false\n",
    "#| output: false\n",
    "test_func = MultiProviderKeyForm\n",
    "app, rt = create_test_app(theme=DaisyUITheme.LIGHT)\n",
    "\n",
    "@rt\n",
    "def index():\n",
    "    return create_test_page(test_func.__doc__.title().split('.')[0].strip(), test_func(['openai', 'claude', 'gemini']))\n",
    "server = start_test_server(app)\n",
    "display(HTMX())\n",
    "server.stop()"
   ]
  },
  {
   "cell_type": "markdown",
   "id": "4e836b9d",
   "metadata": {},
   "source": [
    "## Key Management Card"
   ]
  },
  {
   "cell_type": "code",
   "execution_count": null,
   "id": "d9e058c0",
   "metadata": {},
   "outputs": [],
   "source": [
    "#| export\n",
    "def KeyManagementCard(\n",
    "    provider: str,  # Provider identifier\n",
    "    has_key: bool,  # Whether a key is stored\n",
    "    masked_key: Optional[str] = None,  # Masked version of the key for display\n",
    "    created_at: Optional[str] = None,  # When the key was stored\n",
    "    expires_at: Optional[str] = None,  # When the key expires\n",
    "    delete_action: Optional[str] = None,  # URL for delete action\n",
    "    update_action: Optional[str] = None  # URL for update action\n",
    ") -> Div:  # Card component for key management\n",
    "    \"Create a card component for managing a stored API key.\"\n",
    "    provider_info = get_provider_info(provider)\n",
    "    \n",
    "    card_content = []\n",
    "    \n",
    "    # Title\n",
    "    card_content.append(\n",
    "        Div(\n",
    "            provider_info['name'],\n",
    "            cls=str(card_title)\n",
    "        )\n",
    "    )\n",
    "    \n",
    "    if has_key:\n",
    "        # Show key info\n",
    "        if masked_key:\n",
    "            card_content.append(\n",
    "                P(\n",
    "                    Span(\"Current Key: \"),\n",
    "                    Span(masked_key, cls=\"font-mono\")\n",
    "                )\n",
    "            )\n",
    "        \n",
    "        if created_at:\n",
    "            card_content.append(\n",
    "                P(f\"Added: {created_at}\", cls=\"text-sm opacity-70\")\n",
    "            )\n",
    "        \n",
    "        if expires_at:\n",
    "            card_content.append(\n",
    "                P(f\"Expires: {expires_at}\", cls=\"text-sm opacity-70\")\n",
    "            )\n",
    "        \n",
    "        # Action buttons\n",
    "        actions = []\n",
    "        \n",
    "        if update_action:\n",
    "            actions.append(\n",
    "                Form(\n",
    "                    Input(\n",
    "                        type=\"password\",\n",
    "                        name=\"api_key\",\n",
    "                        placeholder=provider_info['placeholder'],\n",
    "                        cls=str(text_input),\n",
    "                        required=True\n",
    "                    ),\n",
    "                    Button(\n",
    "                        \"Update\",\n",
    "                        type=\"submit\",\n",
    "                        cls=combine_classes(btn, btn_colors.primary, btn_sizes.sm)\n",
    "                    ),\n",
    "                    method=\"post\",\n",
    "                    action=update_action,\n",
    "                    cls=combine_classes(flex_display, gap._2)\n",
    "                )\n",
    "            )\n",
    "        \n",
    "        if delete_action:\n",
    "            actions.append(\n",
    "                Form(\n",
    "                    Button(\n",
    "                        \"Delete\",\n",
    "                        type=\"submit\",\n",
    "                        cls=combine_classes(btn, btn_colors.error, btn_sizes.sm),\n",
    "                        onclick=\"return confirm('Are you sure you want to delete this key?');\"\n",
    "                    ),\n",
    "                    method=\"post\",\n",
    "                    action=delete_action\n",
    "                )\n",
    "            )\n",
    "        \n",
    "        if actions:\n",
    "            card_content.append(\n",
    "                Div(\n",
    "                    *actions,\n",
    "                    cls=str(card_actions)\n",
    "                )\n",
    "            )\n",
    "    else:\n",
    "        # No key stored\n",
    "        card_content.append(\n",
    "            P(\"No key configured\", cls=\"text-sm opacity-70\")\n",
    "        )\n",
    "        \n",
    "        # Add key form\n",
    "        if update_action:\n",
    "            card_content.append(\n",
    "                KeyInputForm(\n",
    "                    provider=provider,\n",
    "                    action=update_action,\n",
    "                    show_help=False\n",
    "                )\n",
    "            )\n",
    "    \n",
    "    return Div(\n",
    "        Div(\n",
    "            *card_content,\n",
    "            cls=str(card_body)\n",
    "        ),\n",
    "        cls=str(card)\n",
    "    )"
   ]
  },
  {
   "cell_type": "code",
   "execution_count": null,
   "id": "836b1ed5-2eed-415e-a04b-433a09e9e944",
   "metadata": {},
   "outputs": [
    {
     "data": {
      "text/html": [
       "\n",
       "<script>\n",
       "document.body.addEventListener('htmx:configRequest', (event) => {\n",
       "    if(event.detail.path.includes('://')) return;\n",
       "    htmx.config.selfRequestsOnly=false;\n",
       "    event.detail.path = `${location.protocol}//${location.hostname}:8000${event.detail.path}`;\n",
       "});\n",
       "</script>"
      ],
      "text/plain": [
       "<IPython.core.display.HTML object>"
      ]
     },
     "metadata": {},
     "output_type": "display_data"
    },
    {
     "data": {
      "text/html": [
       "<iframe src=\"http://localhost:8000/\" style=\"width: 100%; height: auto; border: none;\" onload=\"{\n",
       "        let frame = this;\n",
       "        window.addEventListener('message', function(e) {\n",
       "            if (e.source !== frame.contentWindow) return; // Only proceed if the message is from this iframe\n",
       "            if (e.data.height) frame.style.height = (e.data.height+1) + 'px';\n",
       "        }, false);\n",
       "    }\" allow=\"accelerometer; autoplay; camera; clipboard-read; clipboard-write; display-capture; encrypted-media; fullscreen; gamepad; geolocation; gyroscope; hid; identity-credentials-get; idle-detection; magnetometer; microphone; midi; payment; picture-in-picture; publickey-credentials-get; screen-wake-lock; serial; usb; web-share; xr-spatial-tracking\"></iframe> "
      ],
      "text/plain": [
       "<IPython.core.display.HTML object>"
      ]
     },
     "metadata": {},
     "output_type": "display_data"
    }
   ],
   "source": [
    "#| eval: false\n",
    "#| output: false\n",
    "test_func = KeyManagementCard\n",
    "app, rt = create_test_app(theme=DaisyUITheme.LIGHT)\n",
    "\n",
    "@rt\n",
    "def index():\n",
    "    return create_test_page(test_func.__doc__.title().split('.')[0].strip(), test_func(\n",
    "    provider=\"openai\",\n",
    "    has_key=True,\n",
    "    masked_key=\"sk-...abc\",\n",
    "    created_at=\"2 hours ago\"\n",
    "))\n",
    "server = start_test_server(app)\n",
    "display(HTMX())\n",
    "server.stop()"
   ]
  },
  {
   "cell_type": "markdown",
   "id": "15b720b6",
   "metadata": {},
   "source": [
    "## Key Manager Dashboard"
   ]
  },
  {
   "cell_type": "code",
   "execution_count": null,
   "id": "e4048996",
   "metadata": {},
   "outputs": [],
   "source": [
    "#| export\n",
    "def KeyManagerDashboard(\n",
    "    request,  # FastHTML request object\n",
    "    providers: List[str],  # List of provider identifiers to manage\n",
    "    byok_manager = None,\n",
    "    user_id: Optional[str] = None,  # Optional user ID for database storage\n",
    "    base_url: str = \"/api/keys\"  # Base URL for API endpoints\n",
    ") -> Div:  # Dashboard component with all provider cards\n",
    "    \"Create a complete dashboard for managing multiple API keys.\"\n",
    "    # Get BYOK manager from request scope if not provided\n",
    "    if byok_manager is None and 'byok' in request.scope:\n",
    "        byok_manager = request.scope['byok']\n",
    "    \n",
    "    cards = []\n",
    "    \n",
    "    for provider in providers:\n",
    "        has_key = False\n",
    "        masked_key = None\n",
    "        \n",
    "        if byok_manager:\n",
    "            # Check if key exists\n",
    "            has_key = byok_manager.has_key(request, provider, user_id)\n",
    "            if has_key:\n",
    "                # Get masked version of key\n",
    "                actual_key = byok_manager.get_key(request, provider, user_id)\n",
    "                if actual_key:\n",
    "                    masked_key = mask_key(actual_key)\n",
    "        \n",
    "        cards.append(\n",
    "            KeyManagementCard(\n",
    "                provider=provider,\n",
    "                has_key=has_key,\n",
    "                masked_key=masked_key,\n",
    "                delete_action=f\"{base_url}/{provider}/delete\" if has_key else None,\n",
    "                update_action=f\"{base_url}/{provider}\"\n",
    "            )\n",
    "        )\n",
    "    \n",
    "    return Div(\n",
    "        Div(\n",
    "            *cards,\n",
    "            cls=\"grid grid-cols-1 md:grid-cols-2 lg:grid-cols-3 gap-4\"\n",
    "        ),\n",
    "        cls=\"w-full\"\n",
    "    )"
   ]
  },
  {
   "cell_type": "code",
   "execution_count": null,
   "id": "tzurgdttkof",
   "metadata": {},
   "outputs": [
    {
     "data": {
      "text/html": [
       "\n",
       "<script>\n",
       "document.body.addEventListener('htmx:configRequest', (event) => {\n",
       "    if(event.detail.path.includes('://')) return;\n",
       "    htmx.config.selfRequestsOnly=false;\n",
       "    event.detail.path = `${location.protocol}//${location.hostname}:8000${event.detail.path}`;\n",
       "});\n",
       "</script>"
      ],
      "text/plain": [
       "<IPython.core.display.HTML object>"
      ]
     },
     "metadata": {},
     "output_type": "display_data"
    },
    {
     "data": {
      "text/html": [
       "<iframe src=\"http://localhost:8000/\" style=\"width: 100%; height: auto; border: none;\" onload=\"{\n",
       "        let frame = this;\n",
       "        window.addEventListener('message', function(e) {\n",
       "            if (e.source !== frame.contentWindow) return; // Only proceed if the message is from this iframe\n",
       "            if (e.data.height) frame.style.height = (e.data.height+1) + 'px';\n",
       "        }, false);\n",
       "    }\" allow=\"accelerometer; autoplay; camera; clipboard-read; clipboard-write; display-capture; encrypted-media; fullscreen; gamepad; geolocation; gyroscope; hid; identity-credentials-get; idle-detection; magnetometer; microphone; midi; payment; picture-in-picture; publickey-credentials-get; screen-wake-lock; serial; usb; web-share; xr-spatial-tracking\"></iframe> "
      ],
      "text/plain": [
       "<IPython.core.display.HTML object>"
      ]
     },
     "metadata": {},
     "output_type": "display_data"
    }
   ],
   "source": [
    "#| eval: false\n",
    "#| output: false\n",
    "test_func = KeyManagerDashboard\n",
    "app, rt = create_test_app(theme=DaisyUITheme.LIGHT)\n",
    "\n",
    "@rt\n",
    "def index():\n",
    "    # Create a mock request object with simulated keys\n",
    "    class MockRequest:\n",
    "        pass\n",
    "    \n",
    "    request = MockRequest()\n",
    "    \n",
    "    # Simulate having keys for some providers\n",
    "    providers = [\"openai\", \"anthropic\", \"google\", \"groq\", \"fireworks\", \"xai\"]\n",
    "    \n",
    "    # Create mock cards - some with keys, some without\n",
    "    cards = []\n",
    "    for i, provider in enumerate(providers):\n",
    "        has_key = i % 2 == 0  # Every other provider has a key\n",
    "        cards.append(\n",
    "            KeyManagementCard(\n",
    "                provider=provider,\n",
    "                has_key=has_key,\n",
    "                masked_key=f\"sk-...{provider[:3]}\" if has_key else None,\n",
    "                created_at=\"2 hours ago\" if has_key else None,\n",
    "                delete_action=f\"/api/keys/{provider}/delete\" if has_key else None,\n",
    "                update_action=f\"/api/keys/{provider}\"\n",
    "            )\n",
    "        )\n",
    "    \n",
    "    # Create the dashboard layout\n",
    "    dashboard = Div(\n",
    "        Div(\n",
    "            *cards,\n",
    "            cls=\"grid grid-cols-1 md:grid-cols-2 lg:grid-cols-3 gap-4\"\n",
    "        ),\n",
    "        cls=\"w-full\"\n",
    "    )\n",
    "    \n",
    "    return create_test_page(\"Key Manager Dashboard\", dashboard)\n",
    "\n",
    "server = start_test_server(app)\n",
    "display(HTMX())\n",
    "server.stop()"
   ]
  },
  {
   "cell_type": "markdown",
   "id": "3bc7a6a8",
   "metadata": {},
   "source": [
    "## Inline Key Input"
   ]
  },
  {
   "cell_type": "code",
   "execution_count": null,
   "id": "3e16398c",
   "metadata": {},
   "outputs": [],
   "source": [
    "#| export\n",
    "def InlineKeyInput(\n",
    "    provider: str,  # Provider identifier\n",
    "    input_id: Optional[str] = None,  # HTML ID for the input element\n",
    "    on_save: Optional[str] = None,  # JavaScript to execute on save (or hx-post URL for HTMX)\n",
    "    compact: bool = True  # Whether to use compact styling\n",
    ") -> Div:  # Inline input component\n",
    "    \"Create a compact inline key input component.\"\n",
    "    provider_info = get_provider_info(provider)\n",
    "    input_id = input_id or f\"key-input-{provider}\"\n",
    "    \n",
    "    input_elem = Input(\n",
    "        type=\"password\",\n",
    "        placeholder=provider_info['placeholder'],\n",
    "        cls=combine_classes(\n",
    "            text_input,\n",
    "            text_input_colors.primary if compact else None,\n",
    "            \"input-sm\" if compact else None\n",
    "        ),\n",
    "        id=input_id,\n",
    "        name=\"api_key\"\n",
    "    )\n",
    "    \n",
    "    save_btn = Button(\n",
    "        \"Save\",\n",
    "        cls=combine_classes(\n",
    "            btn,\n",
    "            btn_colors.primary,\n",
    "            btn_sizes.sm if compact else None\n",
    "        )\n",
    "    )\n",
    "    \n",
    "    # Add HTMX attributes if on_save looks like a URL\n",
    "    if on_save and on_save.startswith('/'):\n",
    "        save_btn.attrs['hx-post'] = on_save\n",
    "        save_btn.attrs['hx-trigger'] = 'click'\n",
    "        save_btn.attrs['hx-include'] = f'#{input_id}'\n",
    "    elif on_save:\n",
    "        save_btn.attrs['onclick'] = on_save\n",
    "    \n",
    "    return Div(\n",
    "        input_elem,\n",
    "        save_btn,\n",
    "        cls=combine_classes(flex_display, gap._2)\n",
    "    )"
   ]
  },
  {
   "cell_type": "code",
   "execution_count": null,
   "id": "069f31aa-72cb-4b3c-b528-7ba8a8cc5725",
   "metadata": {},
   "outputs": [
    {
     "data": {
      "text/html": [
       "\n",
       "<script>\n",
       "document.body.addEventListener('htmx:configRequest', (event) => {\n",
       "    if(event.detail.path.includes('://')) return;\n",
       "    htmx.config.selfRequestsOnly=false;\n",
       "    event.detail.path = `${location.protocol}//${location.hostname}:8000${event.detail.path}`;\n",
       "});\n",
       "</script>"
      ],
      "text/plain": [
       "<IPython.core.display.HTML object>"
      ]
     },
     "metadata": {},
     "output_type": "display_data"
    },
    {
     "data": {
      "text/html": [
       "<iframe src=\"http://localhost:8000/\" style=\"width: 100%; height: auto; border: none;\" onload=\"{\n",
       "        let frame = this;\n",
       "        window.addEventListener('message', function(e) {\n",
       "            if (e.source !== frame.contentWindow) return; // Only proceed if the message is from this iframe\n",
       "            if (e.data.height) frame.style.height = (e.data.height+1) + 'px';\n",
       "        }, false);\n",
       "    }\" allow=\"accelerometer; autoplay; camera; clipboard-read; clipboard-write; display-capture; encrypted-media; fullscreen; gamepad; geolocation; gyroscope; hid; identity-credentials-get; idle-detection; magnetometer; microphone; midi; payment; picture-in-picture; publickey-credentials-get; screen-wake-lock; serial; usb; web-share; xr-spatial-tracking\"></iframe> "
      ],
      "text/plain": [
       "<IPython.core.display.HTML object>"
      ]
     },
     "metadata": {},
     "output_type": "display_data"
    }
   ],
   "source": [
    "#| eval: false\n",
    "#| output: false\n",
    "test_func = InlineKeyInput\n",
    "app, rt = create_test_app(theme=DaisyUITheme.LIGHT)\n",
    "\n",
    "@rt\n",
    "def index():\n",
    "    return create_test_page(test_func.__doc__.title().split('.')[0].strip(), test_func(\n",
    "    provider=\"groq\",\n",
    "    on_save=\"/api/keys/groq/quick-save\"\n",
    "))\n",
    "server = start_test_server(app)\n",
    "display(HTMX())\n",
    "server.stop()"
   ]
  },
  {
   "cell_type": "markdown",
   "id": "491b9d93",
   "metadata": {},
   "source": [
    "## Tests"
   ]
  },
  {
   "cell_type": "code",
   "execution_count": null,
   "id": "c648faf2",
   "metadata": {},
   "outputs": [
    {
     "name": "stdout",
     "output_type": "stream",
     "text": [
      "✓ Basic key input form\n",
      "✓ Multi-provider form\n",
      "✓ Key management card with key\n",
      "✓ Key management card without key\n",
      "✓ Inline key input\n",
      "\n",
      "All form component tests passed!\n"
     ]
    }
   ],
   "source": [
    "# Test basic key input form\n",
    "form = KeyInputForm(provider=\"openai\")\n",
    "assert form.tag == \"form\"\n",
    "assert form.attrs['method'] == \"post\"\n",
    "assert form.attrs['action'] == \"/api/keys/openai\"\n",
    "print(\"✓ Basic key input form\")\n",
    "\n",
    "# Test multi-provider form\n",
    "multi_form = MultiProviderKeyForm(\n",
    "    providers=[\"openai\", \"anthropic\", \"google\"],\n",
    "    default_provider=\"anthropic\"\n",
    ")\n",
    "assert multi_form.tag == \"form\"\n",
    "print(\"✓ Multi-provider form\")\n",
    "\n",
    "# Test key management card\n",
    "card_with_key = KeyManagementCard(\n",
    "    provider=\"openai\",\n",
    "    has_key=True,\n",
    "    masked_key=\"sk-...abc\",\n",
    "    created_at=\"2 hours ago\"\n",
    ")\n",
    "assert card_with_key.tag == \"div\"\n",
    "print(\"✓ Key management card with key\")\n",
    "\n",
    "card_without_key = KeyManagementCard(\n",
    "    provider=\"anthropic\",\n",
    "    has_key=False,\n",
    "    update_action=\"/api/keys/anthropic\"\n",
    ")\n",
    "assert card_without_key.tag == \"div\"\n",
    "print(\"✓ Key management card without key\")\n",
    "\n",
    "# Test inline input\n",
    "inline = InlineKeyInput(\n",
    "    provider=\"groq\",\n",
    "    on_save=\"/api/keys/groq/quick-save\"\n",
    ")\n",
    "assert inline.tag == \"div\"\n",
    "print(\"✓ Inline key input\")\n",
    "\n",
    "print(\"\\nAll form component tests passed!\")"
   ]
  },
  {
   "cell_type": "code",
   "execution_count": null,
   "id": "686b582f",
   "metadata": {},
   "outputs": [],
   "source": [
    "#| hide\n",
    "import nbdev; nbdev.nbdev_export()"
   ]
  }
 ],
 "metadata": {
  "kernelspec": {
   "display_name": "python3",
   "language": "python",
   "name": "python3"
  }
 },
 "nbformat": 4,
 "nbformat_minor": 5
}
