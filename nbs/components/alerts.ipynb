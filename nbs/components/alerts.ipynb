{
 "cells": [
  {
   "cell_type": "markdown",
   "id": "a3700c15",
   "metadata": {},
   "source": [
    "# Alerts\n",
    "\n",
    "> FastHTML alert and notification components for user feedback"
   ]
  },
  {
   "cell_type": "code",
   "execution_count": null,
   "id": "f020965e",
   "metadata": {},
   "outputs": [],
   "source": [
    "#| default_exp components.alerts"
   ]
  },
  {
   "cell_type": "code",
   "execution_count": null,
   "id": "434b2ce1",
   "metadata": {},
   "outputs": [],
   "source": [
    "#| hide\n",
    "from nbdev.showdoc import *"
   ]
  },
  {
   "cell_type": "code",
   "execution_count": null,
   "id": "55e8861b",
   "metadata": {},
   "outputs": [],
   "source": "#| export\nfrom typing import Optional, Literal, Union\nfrom fasthtml.common import Div, Span, Button, P, FT\nfrom fasthtml.svg import Svg, Path, Circle, Polyline, Line, G\n\n# daisyUI imports\nfrom cjm_fasthtml_daisyui.components.feedback.alert import alert, alert_colors, alert_styles\nfrom cjm_fasthtml_daisyui.components.feedback.toast import toast, toast_placement\nfrom cjm_fasthtml_daisyui.components.actions.button import btn, btn_sizes, btn_colors, btn_styles\nfrom cjm_fasthtml_daisyui.components.data_display.badge import badge, badge_colors\n\n# Tailwind imports  \nfrom cjm_fasthtml_tailwind.utilities.sizing import h, w\nfrom cjm_fasthtml_tailwind.utilities.flexbox_and_grid import shrink, gap, flex_display, items, justify\nfrom cjm_fasthtml_tailwind.utilities.effects import opacity\nfrom cjm_fasthtml_tailwind.core.base import combine_classes\n\n# daisyUI semantic colors for SVG icons\nfrom cjm_fasthtml_daisyui.utilities.semantic_colors import stroke_dui, fill_dui"
  },
  {
   "cell_type": "code",
   "execution_count": null,
   "id": "b8d649f2",
   "metadata": {},
   "outputs": [],
   "source": [
    "#| export\n",
    "from fasthtml.jupyter import HTMX\n",
    "from cjm_fasthtml_daisyui.core.testing import create_test_app, create_test_page, start_test_server\n",
    "from cjm_fasthtml_daisyui.core.themes import DaisyUITheme\n",
    "from IPython.display import display"
   ]
  },
  {
   "cell_type": "markdown",
   "id": "da0b1835",
   "metadata": {},
   "source": [
    "## Icon Components"
   ]
  },
  {
   "cell_type": "code",
   "execution_count": null,
   "id": "824e8ba9",
   "metadata": {},
   "outputs": [],
   "source": "#| export\ndef InfoIcon(\n    size: str = \"6\"  # Size of the icon (matches Tailwind h-{size} and w-{size} classes)\n) -> FT:  # SVG element for the info icon\n    \"\"\"Create an info icon SVG.\"\"\"\n    return Svg(\n        Path(\n            stroke_linecap=\"round\",\n            stroke_linejoin=\"round\",\n            stroke_width=\"2\",\n            d=\"M13 16h-1v-4h-1m1-4h.01M21 12a9 9 0 11-18 0 9 9 0 0118 0z\"\n        ),\n        xmlns=\"http://www.w3.org/2000/svg\",\n        fill=\"none\",\n        viewBox=\"0 0 24 24\",\n        cls=combine_classes(stroke_dui.info_content, h(size), w(size), shrink._0)\n    )\n\ndef SuccessIcon(\n    size: str = \"6\"  # Size of the icon (matches Tailwind h-{size} and w-{size} classes)\n) -> FT:  # SVG element for the success icon\n    \"\"\"Create a success/check icon SVG.\"\"\"\n    return Svg(\n        Path(\n            stroke_linecap=\"round\",\n            stroke_linejoin=\"round\",\n            stroke_width=\"2\",\n            d=\"M9 12l2 2 4-4m6 2a9 9 0 11-18 0 9 9 0 0118 0z\"\n        ),\n        xmlns=\"http://www.w3.org/2000/svg\",\n        fill=\"none\",\n        viewBox=\"0 0 24 24\",\n        cls=combine_classes(stroke_dui.success_content, h(size), w(size), shrink._0)\n    )\n\ndef WarningIcon(\n    size: str = \"6\"  # Size of the icon (matches Tailwind h-{size} and w-{size} classes)\n) -> FT:  # SVG element for the warning icon\n    \"\"\"Create a warning/exclamation icon SVG.\"\"\"\n    return Svg(\n        Path(\n            stroke_linecap=\"round\",\n            stroke_linejoin=\"round\",\n            stroke_width=\"2\",\n            d=\"M12 9v2m0 4h.01m-6.938 4h13.856c1.54 0 2.502-1.667 1.732-3L13.732 4c-.77-1.333-2.694-1.333-3.464 0L3.34 16c-.77 1.333.192 3 1.732 3z\"\n        ),\n        xmlns=\"http://www.w3.org/2000/svg\",\n        fill=\"none\",\n        viewBox=\"0 0 24 24\",\n        cls=combine_classes(stroke_dui.warning_content, h(size), w(size), shrink._0)\n    )\n\ndef ErrorIcon(\n    size: str = \"6\"  # Size of the icon (matches Tailwind h-{size} and w-{size} classes)\n) -> FT:  # SVG element for the error icon\n    \"\"\"Create an error/X icon SVG.\"\"\"\n    return Svg(\n        Path(\n            stroke_linecap=\"round\",\n            stroke_linejoin=\"round\",\n            stroke_width=\"2\",\n            d=\"M10 14l2-2m0 0l2-2m-2 2l-2-2m2 2l2 2m7-2a9 9 0 11-18 0 9 9 0 0118 0z\"\n        ),\n        xmlns=\"http://www.w3.org/2000/svg\",\n        fill=\"none\",\n        viewBox=\"0 0 24 24\",\n        cls=combine_classes(stroke_dui.error_content, h(size), w(size), shrink._0)\n    )"
  },
  {
   "cell_type": "markdown",
   "id": "ea1e4b96",
   "metadata": {},
   "source": [
    "## Basic Alert Component"
   ]
  },
  {
   "cell_type": "code",
   "execution_count": null,
   "id": "509e32de",
   "metadata": {},
   "outputs": [],
   "source": "#| export\ndef Alert(\n    message: str,  # The alert message\n    kind: Literal[\"info\", \"success\", \"warning\", \"error\"] = \"info\",\n    title: Optional[str] = None,  # Optional title for the alert\n    dismissible: bool = False,  # Whether the alert can be dismissed\n    show_icon: bool = True,  # Whether to show an icon\n    style: Optional[str] = None,  # Alert style (\"soft\", \"outline\", or None for default)\n    id: Optional[str] = None  # HTML ID for the alert element\n) -> FT:  # Alert component\n    \"\"\"Create an alert component for displaying messages.\"\"\"\n    # Select appropriate icon\n    icon = None\n    if show_icon:\n        if kind == \"success\":\n            icon = SuccessIcon()\n        elif kind == \"warning\":\n            icon = WarningIcon()\n        elif kind == \"error\":\n            icon = ErrorIcon()\n        else:\n            icon = InfoIcon()\n    \n    # Select color\n    color_class = getattr(alert_colors, kind, alert_colors.info)\n    \n    # Select style\n    style_class = None\n    if style == \"soft\":\n        style_class = alert_styles.soft\n    elif style == \"outline\":\n        style_class = alert_styles.outline\n    \n    # Build content\n    content = []\n    if icon:\n        content.append(icon)\n    \n    # Add title and message\n    text_content = []\n    if title:\n        from cjm_fasthtml_tailwind.utilities.typography import font_weight\n        text_content.append(Div(title, cls=str(font_weight.bold)))\n    text_content.append(Span(message))\n    \n    content.append(Div(*text_content))\n    \n    # Add dismiss button if needed\n    if dismissible:\n        from cjm_fasthtml_tailwind.utilities.svg import stroke\n        dismiss_btn = Button(\n            Svg(\n                Path(\n                    stroke_linecap=\"round\",\n                    stroke_linejoin=\"round\",\n                    stroke_width=\"2\",\n                    d=\"M6 18L18 6M6 6l12 12\"\n                ),\n                xmlns=\"http://www.w3.org/2000/svg\",\n                fill=\"none\",\n                viewBox=\"0 0 24 24\",\n                cls=combine_classes(stroke.current, h._4, w._4)\n            ),\n            cls=combine_classes(btn, btn_styles.ghost, btn_sizes.xs),\n            onclick=f\"document.getElementById('{id or 'alert'}').remove()\" if id else \"this.parentElement.remove()\"\n        )\n        content.append(dismiss_btn)\n    \n    # Combine classes\n    classes = [alert]\n    if color_class:\n        classes.append(color_class)\n    if style_class:\n        classes.append(style_class)\n    \n    return Div(\n        *content,\n        role=\"alert\",\n        cls=combine_classes(*classes),\n        id=id\n    )"
  },
  {
   "cell_type": "code",
   "execution_count": null,
   "id": "c87a6a0b",
   "metadata": {},
   "outputs": [
    {
     "data": {
      "text/html": [
       "\n",
       "<script>\n",
       "document.body.addEventListener('htmx:configRequest', (event) => {\n",
       "    if(event.detail.path.includes('://')) return;\n",
       "    htmx.config.selfRequestsOnly=false;\n",
       "    event.detail.path = `${location.protocol}//${location.hostname}:8000${event.detail.path}`;\n",
       "});\n",
       "</script>"
      ],
      "text/plain": [
       "<IPython.core.display.HTML object>"
      ]
     },
     "metadata": {},
     "output_type": "display_data"
    },
    {
     "data": {
      "text/html": [
       "<iframe src=\"http://localhost:8000/\" style=\"width: 100%; height: auto; border: none;\" onload=\"{\n",
       "        let frame = this;\n",
       "        window.addEventListener('message', function(e) {\n",
       "            if (e.source !== frame.contentWindow) return; // Only proceed if the message is from this iframe\n",
       "            if (e.data.height) frame.style.height = (e.data.height+1) + 'px';\n",
       "        }, false);\n",
       "    }\" allow=\"accelerometer; autoplay; camera; clipboard-read; clipboard-write; display-capture; encrypted-media; fullscreen; gamepad; geolocation; gyroscope; hid; identity-credentials-get; idle-detection; magnetometer; microphone; midi; payment; picture-in-picture; publickey-credentials-get; screen-wake-lock; serial; usb; web-share; xr-spatial-tracking\"></iframe> "
      ],
      "text/plain": [
       "<IPython.core.display.HTML object>"
      ]
     },
     "metadata": {},
     "output_type": "display_data"
    }
   ],
   "source": [
    "#| eval: false\n",
    "#| output: false\n",
    "test_func = Alert\n",
    "app, rt = create_test_app(theme=DaisyUITheme.LIGHT)\n",
    "\n",
    "@rt\n",
    "def index():\n",
    "    from cjm_fasthtml_tailwind.utilities.flexbox_and_grid import flex_direction\n",
    "    alerts = [\n",
    "        Alert(\"This is an info alert\", kind=\"info\"),\n",
    "        Alert(\"Operation successful!\", kind=\"success\", title=\"Success\"),\n",
    "        Alert(\"Please review your input\", kind=\"warning\", dismissible=True, id=\"warn1\"),\n",
    "        Alert(\"An error occurred\", kind=\"error\", style=\"soft\")\n",
    "    ]\n",
    "    return create_test_page(\n",
    "        \"Alert Examples\",\n",
    "        Div(*alerts, cls=combine_classes(flex_display, flex_direction.col, gap._4))\n",
    "    )\n",
    "\n",
    "server = start_test_server(app)\n",
    "display(HTMX())\n",
    "server.stop()"
   ]
  },
  {
   "cell_type": "markdown",
   "id": "5db1ac5b",
   "metadata": {},
   "source": [
    "## Security-Specific Alerts"
   ]
  },
  {
   "cell_type": "code",
   "execution_count": null,
   "id": "cd30e0fd",
   "metadata": {},
   "outputs": [],
   "source": "#| export  \ndef SecurityAlert(\n    message: str,  # Security alert message\n    severity: Literal[\"low\", \"medium\", \"high\", \"critical\"] = \"medium\",\n    action_url: Optional[str] = None,  # Optional URL for remediation action\n    action_text: str = \"Fix Now\"  # Text for the action button\n) -> FT:  # Security alert component\n    \"\"\"Create a security-focused alert with severity levels.\"\"\"\n    from cjm_fasthtml_tailwind.utilities.typography import font_weight\n    from cjm_fasthtml_tailwind.utilities.spacing import m\n    \n    # Map severity to alert type\n    severity_map = {\n        \"low\": \"info\",\n        \"medium\": \"warning\",\n        \"high\": \"error\",\n        \"critical\": \"error\"\n    }\n    \n    kind = severity_map.get(severity, \"warning\")\n    \n    # Build content\n    content = [\n        Div(\n            Span(\"Security Alert\", cls=str(font_weight.bold)),\n            Span(f\" - {severity.upper()}\", cls=combine_classes(\n                badge,\n                badge_colors.error if severity in [\"high\", \"critical\"] else badge_colors.warning,\n                m.l(2)\n            ))\n        ),\n        P(message, cls=str(m.t(2)))\n    ]\n    \n    # Add action button if URL provided\n    if action_url:\n        content.append(\n            Div(\n                Button(\n                    action_text,\n                    cls=combine_classes(\n                        btn,\n                        btn_colors.error if severity in [\"high\", \"critical\"] else btn_colors.warning,\n                        btn_sizes.sm,\n                        m.t(2)\n                    ),\n                    onclick=f\"window.location.href='{action_url}'\"\n                )\n            )\n        )\n    \n    # Build custom alert directly instead of modifying Alert\n    icon = WarningIcon() if severity != \"critical\" else ErrorIcon()\n    \n    return Div(\n        icon,\n        Div(*content),\n        role=\"alert\",\n        cls=combine_classes(\n            alert,\n            alert_colors.error if severity in [\"high\", \"critical\"] else alert_colors.warning\n        )\n    )"
  },
  {
   "cell_type": "code",
   "execution_count": null,
   "id": "c138b92b",
   "metadata": {},
   "outputs": [
    {
     "data": {
      "text/html": [
       "\n",
       "<script>\n",
       "document.body.addEventListener('htmx:configRequest', (event) => {\n",
       "    if(event.detail.path.includes('://')) return;\n",
       "    htmx.config.selfRequestsOnly=false;\n",
       "    event.detail.path = `${location.protocol}//${location.hostname}:8000${event.detail.path}`;\n",
       "});\n",
       "</script>"
      ],
      "text/plain": [
       "<IPython.core.display.HTML object>"
      ]
     },
     "metadata": {},
     "output_type": "display_data"
    },
    {
     "data": {
      "text/html": [
       "<iframe src=\"http://localhost:8000/\" style=\"width: 100%; height: auto; border: none;\" onload=\"{\n",
       "        let frame = this;\n",
       "        window.addEventListener('message', function(e) {\n",
       "            if (e.source !== frame.contentWindow) return; // Only proceed if the message is from this iframe\n",
       "            if (e.data.height) frame.style.height = (e.data.height+1) + 'px';\n",
       "        }, false);\n",
       "    }\" allow=\"accelerometer; autoplay; camera; clipboard-read; clipboard-write; display-capture; encrypted-media; fullscreen; gamepad; geolocation; gyroscope; hid; identity-credentials-get; idle-detection; magnetometer; microphone; midi; payment; picture-in-picture; publickey-credentials-get; screen-wake-lock; serial; usb; web-share; xr-spatial-tracking\"></iframe> "
      ],
      "text/plain": [
       "<IPython.core.display.HTML object>"
      ]
     },
     "metadata": {},
     "output_type": "display_data"
    }
   ],
   "source": [
    "#| eval: false\n",
    "#| output: false\n",
    "test_func = SecurityAlert\n",
    "app, rt = create_test_app(theme=DaisyUITheme.LIGHT)\n",
    "\n",
    "@rt\n",
    "def index():\n",
    "    from cjm_fasthtml_tailwind.utilities.flexbox_and_grid import flex_direction\n",
    "    alerts = [\n",
    "        SecurityAlert(\"Consider enabling HTTPS for production\", severity=\"low\"),\n",
    "        SecurityAlert(\"API keys transmitted over HTTP\", severity=\"high\", action_url=\"/settings/security\")\n",
    "    ]\n",
    "    return create_test_page(\n",
    "        \"Security Alert Examples\",\n",
    "        Div(*alerts, cls=combine_classes(flex_display, flex_direction.col, gap._4))\n",
    "    )\n",
    "\n",
    "server = start_test_server(app)\n",
    "display(HTMX())\n",
    "server.stop()"
   ]
  },
  {
   "cell_type": "markdown",
   "id": "dd8595e7",
   "metadata": {},
   "source": [
    "## Key Status Notifications"
   ]
  },
  {
   "cell_type": "code",
   "execution_count": null,
   "id": "1c768b4a",
   "metadata": {},
   "outputs": [],
   "source": "#| export\ndef KeyStatusNotification(\n    provider: str,  # Provider name\n    status: Literal[\"added\", \"updated\", \"deleted\", \"expired\", \"invalid\"],\n    masked_key: Optional[str] = None,  # Masked version of the key\n    auto_dismiss: bool = True,  # Whether to auto-dismiss\n    dismiss_after: int = 5000  # Milliseconds before auto-dismiss\n) -> FT:  # Key status notification component\n    \"\"\"Create a notification for API key status changes.\"\"\"\n    from cjm_fasthtml_byok.utils.helpers import format_provider_name\n    \n    provider_name = format_provider_name(provider)\n    \n    # Define status configurations\n    status_config = {\n        \"added\": (\"success\", f\"{provider_name} API key added successfully\", SuccessIcon),\n        \"updated\": (\"success\", f\"{provider_name} API key updated\", SuccessIcon),\n        \"deleted\": (\"info\", f\"{provider_name} API key removed\", InfoIcon),\n        \"expired\": (\"warning\", f\"{provider_name} API key has expired\", WarningIcon),\n        \"invalid\": (\"error\", f\"{provider_name} API key is invalid\", ErrorIcon)\n    }\n    \n    kind, message, icon_func = status_config.get(status, (\"info\", \"Key status changed\", InfoIcon))\n    \n    # Add masked key if provided\n    if masked_key and status in [\"added\", \"updated\"]:\n        message += f\" ({masked_key})\"\n    \n    notification_id = f\"notification-{provider}-{status}\"\n    \n    # Create the alert element\n    alert_elem = Alert(\n        message,\n        kind=kind,\n        dismissible=True,\n        show_icon=True,\n        id=notification_id\n    )\n    \n    # Add auto-dismiss functionality if enabled\n    if auto_dismiss:\n        from fasthtml.common import Script\n        # Create a script element that runs immediately\n        auto_dismiss_script = Script(\n            f\"setTimeout(() => document.getElementById('{notification_id}')?.remove(), {dismiss_after});\"\n        )\n        \n        # Return a new Div containing both the alert and the script\n        return Div(\n            alert_elem,\n            auto_dismiss_script,\n            id=f\"{notification_id}-wrapper\"\n        )\n    \n    return alert_elem"
  },
  {
   "cell_type": "code",
   "execution_count": null,
   "id": "ab2701cc",
   "metadata": {},
   "outputs": [
    {
     "data": {
      "text/html": [
       "\n",
       "<script>\n",
       "document.body.addEventListener('htmx:configRequest', (event) => {\n",
       "    if(event.detail.path.includes('://')) return;\n",
       "    htmx.config.selfRequestsOnly=false;\n",
       "    event.detail.path = `${location.protocol}//${location.hostname}:8000${event.detail.path}`;\n",
       "});\n",
       "</script>"
      ],
      "text/plain": [
       "<IPython.core.display.HTML object>"
      ]
     },
     "metadata": {},
     "output_type": "display_data"
    },
    {
     "data": {
      "text/html": [
       "<iframe src=\"http://localhost:8000/\" style=\"width: 100%; height: auto; border: none;\" onload=\"{\n",
       "        let frame = this;\n",
       "        window.addEventListener('message', function(e) {\n",
       "            if (e.source !== frame.contentWindow) return; // Only proceed if the message is from this iframe\n",
       "            if (e.data.height) frame.style.height = (e.data.height+1) + 'px';\n",
       "        }, false);\n",
       "    }\" allow=\"accelerometer; autoplay; camera; clipboard-read; clipboard-write; display-capture; encrypted-media; fullscreen; gamepad; geolocation; gyroscope; hid; identity-credentials-get; idle-detection; magnetometer; microphone; midi; payment; picture-in-picture; publickey-credentials-get; screen-wake-lock; serial; usb; web-share; xr-spatial-tracking\"></iframe> "
      ],
      "text/plain": [
       "<IPython.core.display.HTML object>"
      ]
     },
     "metadata": {},
     "output_type": "display_data"
    }
   ],
   "source": [
    "#| eval: false\n",
    "#| output: false\n",
    "test_func = KeyStatusNotification\n",
    "app, rt = create_test_app(theme=DaisyUITheme.LIGHT)\n",
    "\n",
    "@rt\n",
    "def index():\n",
    "    from cjm_fasthtml_tailwind.utilities.flexbox_and_grid import flex_direction\n",
    "    notifications = [\n",
    "        KeyStatusNotification(\"openai\", \"added\", masked_key=\"sk-...xyz\"),\n",
    "        KeyStatusNotification(\"anthropic\", \"expired\"),\n",
    "        KeyStatusNotification(\"google\", \"invalid\")\n",
    "    ]\n",
    "    return create_test_page(\n",
    "        \"Key Status Notifications\",\n",
    "        Div(*notifications, cls=combine_classes(flex_display, flex_direction.col, gap._4))\n",
    "    )\n",
    "\n",
    "server = start_test_server(app)\n",
    "display(HTMX())\n",
    "server.stop()"
   ]
  },
  {
   "cell_type": "markdown",
   "id": "669034ff",
   "metadata": {},
   "source": [
    "## Toast Notifications"
   ]
  },
  {
   "cell_type": "code",
   "execution_count": null,
   "id": "cf1dd85a",
   "metadata": {},
   "outputs": [],
   "source": "#| export\ndef ToastContainer(\n    position: Literal[\"top\", \"middle\", \"bottom\"] = \"top\",\n    align: Literal[\"start\", \"center\", \"end\"] = \"end\",\n    id: str = \"toast-container\"  # HTML ID for the container\n) -> FT:  # Toast container component\n    \"\"\"Create a container for toast notifications.\"\"\"\n    # Build position classes\n    position_classes = []\n    \n    if position == \"top\":\n        position_classes.append(toast_placement.top)\n    elif position == \"middle\":\n        position_classes.append(toast_placement.middle)\n    else:\n        position_classes.append(toast_placement.bottom)\n    \n    if align == \"start\":\n        position_classes.append(toast_placement.start)\n    elif align == \"center\":\n        position_classes.append(toast_placement.center)\n    else:\n        position_classes.append(toast_placement.end)\n    \n    return Div(\n        cls=combine_classes(toast, *position_classes),\n        id=id\n    )"
  },
  {
   "cell_type": "code",
   "execution_count": null,
   "id": "b087b276",
   "metadata": {},
   "outputs": [],
   "source": "#| export\ndef Toast(\n    message: str,  # Toast message\n    kind: Literal[\"info\", \"success\", \"warning\", \"error\"] = \"info\",\n    duration: int = 3000  # Duration in milliseconds\n) -> FT:  # Toast notification component\n    \"\"\"Create a toast notification.\"\"\"\n    from fasthtml.common import Script\n    \n    toast_id = f\"toast-{id(message)}\"\n    \n    return Div(\n        Alert(\n            message,\n            kind=kind,\n            dismissible=False,\n            show_icon=True\n        ),\n        Script(\n            f\"setTimeout(() => document.getElementById('{toast_id}')?.remove(), {duration});\"\n        ),\n        id=toast_id\n    )"
  },
  {
   "cell_type": "code",
   "execution_count": null,
   "id": "ab449b5a-91d9-4004-8dd4-e35356236658",
   "metadata": {},
   "outputs": [
    {
     "data": {
      "text/markdown": [
       "```html\n",
       "<div id=\"toast-139483155685168\">\n",
       "  <div role=\"alert\" class=\"alert alert-success\">\n",
       "<svg xmlns=\"http://www.w3.org/2000/svg\" viewbox=\"0 0 24 24\" fill=\"none\" class=\"stroke-success-content h-6 w-6 shrink-0\"><path d=\"M9 12l2 2 4-4m6 2a9 9 0 11-18 0 9 9 0 0118 0z\" stroke-width=\"2\" stroke-linecap=\"round\" stroke-linejoin=\"round\"></path></svg>    <div>\n",
       "<span>API key saved!</span>    </div>\n",
       "  </div>\n",
       "<script>setTimeout(() => document.getElementById('toast-139483155685168')?.remove(), 3000);</script></div>\n",
       "\n",
       "```"
      ],
      "text/plain": [
       "div((div((svg((path((),{'d': 'M9 12l2 2 4-4m6 2a9 9 0 11-18 0 9 9 0 0118 0z', 'stroke-width': '2', 'stroke-linecap': 'round', 'stroke-linejoin': 'round'}),),{'xmlns': 'http://www.w3.org/2000/svg', 'viewbox': '0 0 24 24', 'fill': 'none', 'class': 'stroke-success-content h-6 w-6 shrink-0'}), div((span(('API key saved!',),{}),),{})),{'role': 'alert', 'class': 'alert alert-success'}), script((\"setTimeout(() => document.getElementById('toast-139483155685168')?.remove(), 3000);\",),{})),{'id': 'toast-139483155685168'})"
      ]
     },
     "execution_count": null,
     "metadata": {},
     "output_type": "execute_result"
    }
   ],
   "source": [
    "Toast(\"API key saved!\", kind=\"success\")"
   ]
  },
  {
   "cell_type": "code",
   "execution_count": null,
   "id": "c38df2ef",
   "metadata": {},
   "outputs": [
    {
     "data": {
      "text/html": [
       "\n",
       "<script>\n",
       "document.body.addEventListener('htmx:configRequest', (event) => {\n",
       "    if(event.detail.path.includes('://')) return;\n",
       "    htmx.config.selfRequestsOnly=false;\n",
       "    event.detail.path = `${location.protocol}//${location.hostname}:8000${event.detail.path}`;\n",
       "});\n",
       "</script>"
      ],
      "text/plain": [
       "<IPython.core.display.HTML object>"
      ]
     },
     "metadata": {},
     "output_type": "display_data"
    },
    {
     "data": {
      "text/html": [
       "<iframe src=\"http://localhost:8000/\" style=\"width: 100%; height: auto; border: none;\" onload=\"{\n",
       "        let frame = this;\n",
       "        window.addEventListener('message', function(e) {\n",
       "            if (e.source !== frame.contentWindow) return; // Only proceed if the message is from this iframe\n",
       "            if (e.data.height) frame.style.height = (e.data.height+1) + 'px';\n",
       "        }, false);\n",
       "    }\" allow=\"accelerometer; autoplay; camera; clipboard-read; clipboard-write; display-capture; encrypted-media; fullscreen; gamepad; geolocation; gyroscope; hid; identity-credentials-get; idle-detection; magnetometer; microphone; midi; payment; picture-in-picture; publickey-credentials-get; screen-wake-lock; serial; usb; web-share; xr-spatial-tracking\"></iframe> "
      ],
      "text/plain": [
       "<IPython.core.display.HTML object>"
      ]
     },
     "metadata": {},
     "output_type": "display_data"
    }
   ],
   "source": [
    "#| eval: false\n",
    "#| output: false\n",
    "app, rt = create_test_app(theme=DaisyUITheme.LIGHT)\n",
    "\n",
    "@rt\n",
    "def index():\n",
    "    return create_test_page(\n",
    "        \"Toast Examples\",\n",
    "        Div(\n",
    "            ToastContainer(position=\"top\", align=\"end\"),\n",
    "            Div(\n",
    "                Toast(\"API key saved!\", kind=\"success\"),\n",
    "                Toast(\"Please check your input\", kind=\"warning\"),\n",
    "                cls=combine_classes(toast, toast_placement.top, toast_placement.end)\n",
    "            )\n",
    "        )\n",
    "    )\n",
    "\n",
    "server = start_test_server(app)\n",
    "display(HTMX())\n",
    "server.stop()"
   ]
  },
  {
   "cell_type": "markdown",
   "id": "85e28353",
   "metadata": {},
   "source": [
    "## Inline Validation Messages"
   ]
  },
  {
   "cell_type": "code",
   "execution_count": null,
   "id": "1eb61d92",
   "metadata": {},
   "outputs": [],
   "source": "#| export\ndef ValidationMessage(\n    message: str,  # Validation message\n    is_valid: bool = False,  # Whether the validation passed\n    show_icon: bool = True  # Whether to show an icon\n) -> FT:  # Validation message component\n    \"\"\"Create an inline validation message for form fields.\"\"\"\n    from cjm_fasthtml_daisyui.utilities.semantic_colors import text_dui, stroke_dui\n    from cjm_fasthtml_tailwind.utilities.typography import font_size\n    from cjm_fasthtml_tailwind.utilities.spacing import m\n    from cjm_fasthtml_tailwind.utilities.svg import stroke as stroke_tw\n    \n    icon = None\n    if show_icon:\n        if is_valid:\n            icon = Svg(\n                Polyline(\n                    points=\"20 6 9 17 4 12\",\n                    stroke_linecap=\"round\",\n                    stroke_linejoin=\"round\",\n                    stroke_width=\"2\"\n                ),\n                xmlns=\"http://www.w3.org/2000/svg\",\n                fill=\"none\",\n                viewBox=\"0 0 24 24\",\n                cls=combine_classes(stroke_dui.success, h._4, w._4)\n            )\n        else:\n            icon = Svg(\n                Circle(cx=\"12\", cy=\"12\", r=\"10\"),\n                Line(x1=\"12\", y1=\"8\", x2=\"12\", y2=\"12\"),\n                Line(x1=\"12\", y1=\"16\", x2=\"12.01\", y2=\"16\"),\n                xmlns=\"http://www.w3.org/2000/svg\",\n                fill=\"none\",\n                viewBox=\"0 0 24 24\",\n                stroke=\"currentColor\",\n                stroke_width=\"2\",\n                cls=combine_classes(stroke_dui.error, h._4, w._4)\n            )\n    \n    content = []\n    if icon:\n        content.append(icon)\n    content.append(Span(message))\n    \n    return Div(\n        *content,\n        cls=combine_classes(\n            flex_display,\n            items.center,\n            gap._1,\n            font_size.sm,\n            m.t(1),\n            text_dui.success if is_valid else text_dui.error\n        )\n    )"
  },
  {
   "cell_type": "code",
   "execution_count": null,
   "id": "89a45b46",
   "metadata": {},
   "outputs": [
    {
     "data": {
      "text/html": [
       "\n",
       "<script>\n",
       "document.body.addEventListener('htmx:configRequest', (event) => {\n",
       "    if(event.detail.path.includes('://')) return;\n",
       "    htmx.config.selfRequestsOnly=false;\n",
       "    event.detail.path = `${location.protocol}//${location.hostname}:8000${event.detail.path}`;\n",
       "});\n",
       "</script>"
      ],
      "text/plain": [
       "<IPython.core.display.HTML object>"
      ]
     },
     "metadata": {},
     "output_type": "display_data"
    },
    {
     "data": {
      "text/html": [
       "<iframe src=\"http://localhost:8000/\" style=\"width: 100%; height: auto; border: none;\" onload=\"{\n",
       "        let frame = this;\n",
       "        window.addEventListener('message', function(e) {\n",
       "            if (e.source !== frame.contentWindow) return; // Only proceed if the message is from this iframe\n",
       "            if (e.data.height) frame.style.height = (e.data.height+1) + 'px';\n",
       "        }, false);\n",
       "    }\" allow=\"accelerometer; autoplay; camera; clipboard-read; clipboard-write; display-capture; encrypted-media; fullscreen; gamepad; geolocation; gyroscope; hid; identity-credentials-get; idle-detection; magnetometer; microphone; midi; payment; picture-in-picture; publickey-credentials-get; screen-wake-lock; serial; usb; web-share; xr-spatial-tracking\"></iframe> "
      ],
      "text/plain": [
       "<IPython.core.display.HTML object>"
      ]
     },
     "metadata": {},
     "output_type": "display_data"
    }
   ],
   "source": [
    "#| eval: false  \n",
    "#| output: false\n",
    "test_func = ValidationMessage\n",
    "app, rt = create_test_app(theme=DaisyUITheme.LIGHT)\n",
    "\n",
    "@rt\n",
    "def index():\n",
    "    from fasthtml.common import Input, Label\n",
    "    from cjm_fasthtml_daisyui.components.data_input.text_input import text_input, text_input_colors\n",
    "    from cjm_fasthtml_tailwind.utilities.flexbox_and_grid import flex_direction\n",
    "    \n",
    "    return create_test_page(\n",
    "        \"Validation Messages\",\n",
    "        Div(\n",
    "            Div(\n",
    "                Label(\"Valid API Key\"),\n",
    "                Input(\n",
    "                    type=\"password\",\n",
    "                    value=\"sk-1234567890abcdef\",\n",
    "                    cls=combine_classes(text_input, text_input_colors.success)\n",
    "                ),\n",
    "                ValidationMessage(\"API key format is valid\", is_valid=True)\n",
    "            ),\n",
    "            Div(\n",
    "                Label(\"Invalid API Key\"),\n",
    "                Input(\n",
    "                    type=\"password\",\n",
    "                    value=\"invalid-key\",\n",
    "                    cls=combine_classes(text_input, text_input_colors.error)\n",
    "                ),\n",
    "                ValidationMessage(\"API key format is incorrect\", is_valid=False)\n",
    "            ),\n",
    "            cls=combine_classes(flex_display, flex_direction.col, gap._6)\n",
    "        )\n",
    "    )\n",
    "\n",
    "server = start_test_server(app)\n",
    "display(HTMX())\n",
    "server.stop()"
   ]
  },
  {
   "cell_type": "markdown",
   "id": "16d4c60d",
   "metadata": {},
   "source": [
    "## Alert Stack Manager"
   ]
  },
  {
   "cell_type": "code",
   "execution_count": null,
   "id": "f618be17",
   "metadata": {},
   "outputs": [],
   "source": "#| export\ndef AlertStack(\n    alerts: list,  # List of alert components\n    max_visible: int = 3,  # Maximum number of visible alerts\n    spacing: str = \"4\"  # Gap between alerts\n) -> FT:  # Alert stack component\n    \"\"\"Create a stack of alerts with optional limit.\"\"\"\n    from cjm_fasthtml_tailwind.utilities.typography import font_size, text_align\n    from cjm_fasthtml_tailwind.utilities.interactivity import cursor\n    from cjm_fasthtml_tailwind.utilities.flexbox_and_grid import flex_direction\n    from cjm_fasthtml_tailwind.utilities.layout import display_tw\n    \n    visible_alerts = alerts[:max_visible]\n    hidden_count = len(alerts) - max_visible\n    \n    stack_content = visible_alerts.copy()\n    \n    if hidden_count > 0:\n        stack_content.append(\n            Div(\n                f\"+{hidden_count} more\",\n                cls=combine_classes(\n                    font_size.sm,\n                    text_align.center,\n                    opacity._70,\n                    cursor.pointer,\n                    opacity._100.hover\n                ),\n                onclick=\"this.parentElement.querySelectorAll('.hidden').forEach(el => el.classList.remove('hidden')); this.remove();\"\n            )\n        )\n        \n        # Add hidden alerts\n        for alert in alerts[max_visible:]:\n            alert.attrs['class'] = combine_classes(alert.attrs.get('class', ''), display_tw.hidden)\n            stack_content.append(alert)\n    \n    return Div(\n        *stack_content,\n        cls=combine_classes(\n            flex_display,\n            flex_direction.col,\n            gap(spacing)\n        )\n    )"
  },
  {
   "cell_type": "code",
   "execution_count": null,
   "id": "1393a763",
   "metadata": {},
   "outputs": [
    {
     "data": {
      "text/html": [
       "\n",
       "<script>\n",
       "document.body.addEventListener('htmx:configRequest', (event) => {\n",
       "    if(event.detail.path.includes('://')) return;\n",
       "    htmx.config.selfRequestsOnly=false;\n",
       "    event.detail.path = `${location.protocol}//${location.hostname}:8000${event.detail.path}`;\n",
       "});\n",
       "</script>"
      ],
      "text/plain": [
       "<IPython.core.display.HTML object>"
      ]
     },
     "metadata": {},
     "output_type": "display_data"
    },
    {
     "data": {
      "text/html": [
       "<iframe src=\"http://localhost:8000/\" style=\"width: 100%; height: auto; border: none;\" onload=\"{\n",
       "        let frame = this;\n",
       "        window.addEventListener('message', function(e) {\n",
       "            if (e.source !== frame.contentWindow) return; // Only proceed if the message is from this iframe\n",
       "            if (e.data.height) frame.style.height = (e.data.height+1) + 'px';\n",
       "        }, false);\n",
       "    }\" allow=\"accelerometer; autoplay; camera; clipboard-read; clipboard-write; display-capture; encrypted-media; fullscreen; gamepad; geolocation; gyroscope; hid; identity-credentials-get; idle-detection; magnetometer; microphone; midi; payment; picture-in-picture; publickey-credentials-get; screen-wake-lock; serial; usb; web-share; xr-spatial-tracking\"></iframe> "
      ],
      "text/plain": [
       "<IPython.core.display.HTML object>"
      ]
     },
     "metadata": {},
     "output_type": "display_data"
    }
   ],
   "source": [
    "#| eval: false\n",
    "#| output: false\n",
    "test_func = AlertStack\n",
    "app, rt = create_test_app(theme=DaisyUITheme.LIGHT)\n",
    "\n",
    "@rt\n",
    "def index():\n",
    "    test_alerts = [\n",
    "        Alert(\"First alert\", kind=\"info\"),\n",
    "        Alert(\"Second alert\", kind=\"success\"),\n",
    "        Alert(\"Third alert\", kind=\"warning\"),\n",
    "        Alert(\"Fourth alert (hidden)\", kind=\"error\"),\n",
    "        Alert(\"Fifth alert (hidden)\", kind=\"info\")\n",
    "    ]\n",
    "    \n",
    "    return create_test_page(\n",
    "        \"Alert Stack\",\n",
    "        AlertStack(test_alerts, max_visible=3)\n",
    "    )\n",
    "\n",
    "server = start_test_server(app)\n",
    "display(HTMX())\n",
    "server.stop()"
   ]
  },
  {
   "cell_type": "markdown",
   "id": "51985c1a",
   "metadata": {},
   "source": [
    "## Tests"
   ]
  },
  {
   "cell_type": "code",
   "execution_count": null,
   "id": "fd4f08c0",
   "metadata": {},
   "outputs": [
    {
     "name": "stdout",
     "output_type": "stream",
     "text": [
      "✓ Basic alert\n",
      "✓ Dismissible alert\n",
      "✓ Security alert\n",
      "✓ Key status notification\n",
      "✓ Validation message\n",
      "✓ Toast container\n",
      "✓ Alert stack\n",
      "\n",
      "All alert component tests passed!\n"
     ]
    }
   ],
   "source": [
    "# Test basic alert\n",
    "basic_alert = Alert(\"Test message\", kind=\"info\")\n",
    "assert basic_alert.tag == \"div\"\n",
    "assert basic_alert.attrs['role'] == \"alert\"\n",
    "print(\"✓ Basic alert\")\n",
    "\n",
    "# Test dismissible alert\n",
    "dismiss_alert = Alert(\"Dismissible\", dismissible=True, id=\"test-alert\")\n",
    "assert any(\"button\" in str(child.tag) for child in dismiss_alert.children if hasattr(child, 'tag'))\n",
    "print(\"✓ Dismissible alert\")\n",
    "\n",
    "# Test security alert\n",
    "sec_alert = SecurityAlert(\"Security issue\", severity=\"high\")\n",
    "assert sec_alert.tag == \"div\"\n",
    "print(\"✓ Security alert\")\n",
    "\n",
    "# Test key notification\n",
    "key_notif = KeyStatusNotification(\"openai\", \"added\", masked_key=\"sk-...\")\n",
    "assert key_notif.tag == \"div\"\n",
    "print(\"✓ Key status notification\")\n",
    "\n",
    "# Test validation message\n",
    "val_msg = ValidationMessage(\"Valid input\", is_valid=True)\n",
    "assert val_msg.tag == \"div\"\n",
    "print(\"✓ Validation message\")\n",
    "\n",
    "# Test toast container\n",
    "toast_cont = ToastContainer(position=\"top\", align=\"end\")\n",
    "assert toast_cont.tag == \"div\"\n",
    "print(\"✓ Toast container\")\n",
    "\n",
    "# Test alert stack\n",
    "alerts = [Alert(f\"Alert {i}\", kind=\"info\") for i in range(5)]\n",
    "stack = AlertStack(alerts, max_visible=3)\n",
    "assert stack.tag == \"div\"\n",
    "assert len(stack.children) > 3  # Has hidden alerts\n",
    "print(\"✓ Alert stack\")\n",
    "\n",
    "print(\"\\nAll alert component tests passed!\")"
   ]
  },
  {
   "cell_type": "code",
   "execution_count": null,
   "id": "8b954293",
   "metadata": {},
   "outputs": [],
   "source": [
    "#| hide\n",
    "import nbdev; nbdev.nbdev_export()"
   ]
  }
 ],
 "metadata": {
  "kernelspec": {
   "display_name": "python3",
   "language": "python",
   "name": "python3"
  }
 },
 "nbformat": 4,
 "nbformat_minor": 5
}
