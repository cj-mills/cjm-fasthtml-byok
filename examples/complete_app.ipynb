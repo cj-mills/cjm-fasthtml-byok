{
 "cells": [
  {
   "cell_type": "markdown",
   "id": "d6e0c7f1",
   "metadata": {},
   "source": [
    "# Complete BYOK Example App\n",
    "\n",
    "> A full example FastHTML application demonstrating the BYOK system"
   ]
  },
  {
   "cell_type": "code",
   "execution_count": 1,
   "id": "6805e4b7",
   "metadata": {},
   "outputs": [],
   "source": [
    "#| default_exp examples.complete_app"
   ]
  },
  {
   "cell_type": "markdown",
   "id": "a75ac07a",
   "metadata": {},
   "source": [
    "## Setup and Imports"
   ]
  },
  {
   "cell_type": "code",
   "execution_count": 2,
   "id": "341eafe0",
   "metadata": {},
   "outputs": [],
   "source": [
    "import os\n",
    "from datetime import timedelta\n",
    "from fasthtml.common import *\n",
    "from fasthtml.jupyter import *\n",
    "\n",
    "# BYOK Core imports\n",
    "from cjm_fasthtml_byok.core.storage import BYOKManager\n",
    "from cjm_fasthtml_byok.core.types import BYOKConfig, StorageBackend\n",
    "from cjm_fasthtml_byok.middleware.beforeware import create_byok_beforeware, require_api_key\n",
    "from cjm_fasthtml_byok.utils.helpers import get_key_summary, import_from_env, format_provider_name\n",
    "\n",
    "# BYOK Component imports\n",
    "from cjm_fasthtml_byok.components.forms import (\n",
    "    KeyInputForm, \n",
    "    MultiProviderKeyForm,\n",
    "    KeyManagementCard,\n",
    "    KeyManagerDashboard,\n",
    "    InlineKeyInput\n",
    ")\n",
    "from cjm_fasthtml_byok.components.alerts import (\n",
    "    Alert,\n",
    "    SecurityAlert,\n",
    "    KeyStatusNotification,\n",
    "    ValidationMessage,\n",
    "    ToastContainer\n",
    ")\n",
    "\n",
    "# UI library imports\n",
    "from cjm_fasthtml_daisyui.core.resources import get_daisyui_headers\n",
    "from cjm_fasthtml_daisyui.components.navigation.navbar import navbar, navbar_start, navbar_center, navbar_end\n",
    "from cjm_fasthtml_daisyui.components.actions.button import btn, btn_colors\n",
    "from cjm_fasthtml_tailwind.utilities.flexbox_and_grid import gap, flex_display, flex_direction\n",
    "from cjm_fasthtml_tailwind.utilities.spacing import p as padding, m as margin\n",
    "from cjm_fasthtml_tailwind.utilities.sizing import w, max_w\n",
    "from cjm_fasthtml_tailwind.core.base import combine_classes"
   ]
  },
  {
   "cell_type": "markdown",
   "id": "f1473dfd",
   "metadata": {},
   "source": [
    "## Create the FastHTML Application"
   ]
  },
  {
   "cell_type": "code",
   "execution_count": 3,
   "id": "ce0b60b7",
   "metadata": {},
   "outputs": [],
   "source": [
    "# Configuration\n",
    "SECRET_KEY = os.environ.get(\"SECRET_KEY\", \"dev-secret-key-change-in-production\")\n",
    "DATABASE_URL = \"sqlite:///byok_demo.db\"  # Use SQLite file for demo\n",
    "\n",
    "# Configure BYOK\n",
    "byok_config = BYOKConfig(\n",
    "    storage_backend=StorageBackend.HYBRID,  # Use both session and database\n",
    "    default_ttl=timedelta(hours=24),\n",
    "    auto_cleanup=True,\n",
    "    require_https=False  # Disabled for demo\n",
    ")\n",
    "\n",
    "# Initialize BYOK manager with SQLAlchemy\n",
    "byok = BYOKManager(\n",
    "    secret_key=SECRET_KEY,\n",
    "    db_url=DATABASE_URL,  # Pass database URL instead of db object\n",
    "    config=byok_config\n",
    ")\n",
    "\n",
    "# Setup BYOK beforeware\n",
    "def get_user_id(req):\n",
    "    \"\"\"Get user ID from session (mock for demo)\"\"\"\n",
    "    # Access session from req.session, not req.scope['session']\n",
    "    if hasattr(req, 'session'):\n",
    "        return req.session.get(\"user_id\", \"demo-user\")\n",
    "    return \"demo-user\"\n",
    "\n",
    "# Create the beforeware handler\n",
    "byok_beforeware = create_byok_beforeware(byok)\n",
    "\n",
    "# Create the FastHTML app with session support and beforeware\n",
    "from starlette.middleware.sessions import SessionMiddleware\n",
    "\n",
    "app, rt = fast_app(\n",
    "    hdrs=get_daisyui_headers(include_themes=True),\n",
    "    secret_key=SECRET_KEY,\n",
    "    sess_cls=SessionMiddleware,  # Use proper SessionMiddleware\n",
    "    before=byok_beforeware,  # Add the beforeware here\n",
    "    live=False\n",
    ")"
   ]
  },
  {
   "cell_type": "markdown",
   "id": "4267f143",
   "metadata": {},
   "source": [
    "## Define Layout Components"
   ]
  },
  {
   "cell_type": "code",
   "execution_count": 4,
   "id": "8b557914",
   "metadata": {},
   "outputs": [],
   "source": [
    "def AppNavbar(req):\n",
    "    \"\"\"Create the application navbar\"\"\"\n",
    "    return Div(\n",
    "        Div(\n",
    "            A(\"🔑 BYOK Demo\", href=\"/\", cls=\"btn btn-ghost text-xl\"),\n",
    "            cls=str(navbar_start)\n",
    "        ),\n",
    "        Div(\n",
    "            A(\"Dashboard\", href=\"/\", cls=\"btn btn-ghost\"),\n",
    "            A(\"Add Key\", href=\"/add\", cls=\"btn btn-ghost\"),\n",
    "            A(\"Settings\", href=\"/settings\", cls=\"btn btn-ghost\"),\n",
    "            cls=str(navbar_end)\n",
    "        ),\n",
    "        cls=str(navbar)\n",
    "    )\n",
    "\n",
    "def PageLayout(req, title: str, *content):\n",
    "    \"\"\"Standard page layout\"\"\"\n",
    "    return Titled(\n",
    "        title,\n",
    "        AppNavbar(req),\n",
    "        Div(\n",
    "            *content,\n",
    "            cls=combine_classes(\"container\", \"mx-auto\", padding._4, max_w.screen_xl)\n",
    "        ),\n",
    "        ToastContainer(position=\"top\", align=\"end\")\n",
    "    )"
   ]
  },
  {
   "cell_type": "markdown",
   "id": "a592b0e7",
   "metadata": {},
   "source": [
    "## Route Handlers"
   ]
  },
  {
   "cell_type": "code",
   "execution_count": 5,
   "id": "3208ba1f",
   "metadata": {},
   "outputs": [],
   "source": [
    "@rt(\"/\")\n",
    "def index(req, sess):\n",
    "    \"\"\"Main dashboard page\"\"\"\n",
    "    # Set user ID in session\n",
    "    sess[\"user_id\"] = \"demo-user\"\n",
    "    \n",
    "    # Get stored keys summary\n",
    "    providers = [\"openai\", \"anthropic\", \"google\", \"groq\", \"fireworks\", \"xai\"]\n",
    "    user_id = get_user_id(req)\n",
    "    \n",
    "    # Check for any notifications\n",
    "    notifications = []\n",
    "    if msg := req.query_params.get(\"msg\"):\n",
    "        msg_type = req.query_params.get(\"type\", \"info\")\n",
    "        notifications.append(Alert(msg, kind=msg_type, dismissible=True))\n",
    "    \n",
    "    return PageLayout(\n",
    "        req,\n",
    "        \"API Key Dashboard\",\n",
    "        Div(*notifications) if notifications else None,\n",
    "        H2(\"Manage Your API Keys\", cls=\"text-2xl font-bold mb-6\"),\n",
    "        KeyManagerDashboard(\n",
    "            req,\n",
    "            providers=providers,\n",
    "            byok_manager=byok,\n",
    "            user_id=user_id,\n",
    "            base_url=\"/api/keys\"\n",
    "        )\n",
    "    )"
   ]
  },
  {
   "cell_type": "code",
   "execution_count": 6,
   "id": "7d000aad",
   "metadata": {},
   "outputs": [],
   "source": [
    "@rt(\"/add\")\n",
    "def add_key_page(req, sess):\n",
    "    \"\"\"Page to add a new API key\"\"\"\n",
    "    providers = [\"openai\", \"anthropic\", \"google\", \"groq\", \"fireworks\", \"xai\"]\n",
    "    \n",
    "    return PageLayout(\n",
    "        req,\n",
    "        \"Add API Key\",\n",
    "        Div(\n",
    "            H2(\"Add New API Key\", cls=\"text-2xl font-bold mb-6\"),\n",
    "            Div(\n",
    "                MultiProviderKeyForm(\n",
    "                    providers=providers,\n",
    "                    action=\"/api/keys/add\"\n",
    "                ),\n",
    "                cls=combine_classes(max_w.md, \"mx-auto\")\n",
    "            )\n",
    "        )\n",
    "    )"
   ]
  },
  {
   "cell_type": "code",
   "execution_count": 7,
   "id": "e8d46015",
   "metadata": {},
   "outputs": [],
   "source": [
    "@rt(\"/settings\")\n",
    "def settings_page(req, sess):\n",
    "    \"\"\"Settings page\"\"\"\n",
    "    user_id = get_user_id(req)\n",
    "    summary = get_key_summary(byok, req, user_id)\n",
    "    \n",
    "    return PageLayout(\n",
    "        req,\n",
    "        \"Settings\",\n",
    "        H2(\"Settings\", cls=\"text-2xl font-bold mb-6\"),\n",
    "        \n",
    "        # Security status\n",
    "        Div(\n",
    "            H3(\"Security Status\", cls=\"text-xl font-semibold mb-4\"),\n",
    "            SecurityAlert(\n",
    "                \"HTTPS is not enabled. API keys may be transmitted insecurely.\",\n",
    "                severity=\"medium\" if req.url.scheme == \"http\" else \"low\"\n",
    "            ) if req.url.scheme == \"http\" else Alert(\n",
    "                \"Connection is secure (HTTPS)\",\n",
    "                kind=\"success\"\n",
    "            ),\n",
    "            cls=\"mb-8\"\n",
    "        ),\n",
    "        \n",
    "        # Key summary\n",
    "        Div(\n",
    "            H3(\"Stored Keys Summary\", cls=\"text-xl font-semibold mb-4\"),\n",
    "            P(f\"Total keys stored: {summary['count']}\", cls=\"mb-2\"),\n",
    "            Ul(\n",
    "                *[\n",
    "                    Li(\n",
    "                        f\"{key['display_name']}: {key['masked_key']} - {key['created']}\"\n",
    "                    )\n",
    "                    for key in summary['keys']\n",
    "                ],\n",
    "                cls=\"list-disc list-inside\"\n",
    "            ) if summary['keys'] else P(\"No keys stored\", cls=\"text-gray-500\"),\n",
    "            cls=\"mb-8\"\n",
    "        ),\n",
    "        \n",
    "        # Actions\n",
    "        Div(\n",
    "            H3(\"Actions\", cls=\"text-xl font-semibold mb-4\"),\n",
    "            Form(\n",
    "                Button(\n",
    "                    \"Clear All Keys\",\n",
    "                    type=\"submit\",\n",
    "                    cls=combine_classes(btn, btn_colors.error),\n",
    "                    onclick=\"return confirm('Are you sure you want to delete all keys?');\"\n",
    "                ),\n",
    "                method=\"post\",\n",
    "                action=\"/api/keys/clear-all\"\n",
    "            )\n",
    "        )\n",
    "    )"
   ]
  },
  {
   "cell_type": "markdown",
   "id": "5bf8bb62",
   "metadata": {},
   "source": [
    "## API Endpoints"
   ]
  },
  {
   "cell_type": "code",
   "execution_count": 8,
   "id": "017617d5",
   "metadata": {},
   "outputs": [],
   "source": [
    "@rt(\"/api/keys/add\", methods=[\"POST\"])\n",
    "def add_key(req, sess, provider: str, api_key: str):\n",
    "    \"\"\"Add a new API key\"\"\"\n",
    "    user_id = get_user_id(req)\n",
    "    \n",
    "    try:\n",
    "        # Store the key\n",
    "        byok.set_key(\n",
    "            req,\n",
    "            provider=provider,\n",
    "            api_key=api_key,\n",
    "            user_id=user_id,\n",
    "            ttl=timedelta(days=30)\n",
    "        )\n",
    "        \n",
    "        return RedirectResponse(\n",
    "            url=\"/?msg=API+key+added+successfully&type=success\",\n",
    "            status_code=303\n",
    "        )\n",
    "    except Exception as e:\n",
    "        return RedirectResponse(\n",
    "            url=f\"/?msg=Failed+to+add+key:+{str(e)}&type=error\",\n",
    "            status_code=303\n",
    "        )"
   ]
  },
  {
   "cell_type": "code",
   "execution_count": 9,
   "id": "9d2e176a",
   "metadata": {},
   "outputs": [],
   "source": [
    "@rt(\"/api/keys/{provider}\", methods=[\"POST\"])\n",
    "def update_key(req, sess, provider: str, api_key: str):\n",
    "    \"\"\"Update an API key for a specific provider\"\"\"\n",
    "    user_id = get_user_id(req)\n",
    "    \n",
    "    try:\n",
    "        byok.set_key(\n",
    "            req,\n",
    "            provider=provider,\n",
    "            api_key=api_key,\n",
    "            user_id=user_id,\n",
    "            ttl=timedelta(days=30)\n",
    "        )\n",
    "        \n",
    "        return RedirectResponse(\n",
    "            url=f\"/?msg={provider}+key+updated&type=success\",\n",
    "            status_code=303\n",
    "        )\n",
    "    except Exception as e:\n",
    "        return RedirectResponse(\n",
    "            url=f\"/?msg=Failed+to+update+key:+{str(e)}&type=error\",\n",
    "            status_code=303\n",
    "        )"
   ]
  },
  {
   "cell_type": "code",
   "execution_count": 10,
   "id": "f93306b1",
   "metadata": {},
   "outputs": [],
   "source": [
    "@rt(\"/api/keys/{provider}/delete\", methods=[\"POST\"])\n",
    "def delete_key(req, sess, provider: str):\n",
    "    \"\"\"Delete an API key\"\"\"\n",
    "    user_id = get_user_id(req)\n",
    "    \n",
    "    try:\n",
    "        byok.delete_key(req, provider, user_id)\n",
    "        \n",
    "        return RedirectResponse(\n",
    "            url=f\"/?msg={provider}+key+deleted&type=info\",\n",
    "            status_code=303\n",
    "        )\n",
    "    except Exception as e:\n",
    "        return RedirectResponse(\n",
    "            url=f\"/?msg=Failed+to+delete+key:+{str(e)}&type=error\",\n",
    "            status_code=303\n",
    "        )"
   ]
  },
  {
   "cell_type": "code",
   "execution_count": 11,
   "id": "62fd23db",
   "metadata": {},
   "outputs": [],
   "source": [
    "@rt(\"/api/keys/clear-all\", methods=[\"POST\"])\n",
    "def clear_all_keys(req, sess):\n",
    "    \"\"\"Clear all stored API keys\"\"\"\n",
    "    user_id = get_user_id(req)\n",
    "    \n",
    "    try:\n",
    "        byok.clear_keys(req, user_id)\n",
    "        \n",
    "        return RedirectResponse(\n",
    "            url=\"/?msg=All+keys+cleared&type=info\",\n",
    "            status_code=303\n",
    "        )\n",
    "    except Exception as e:\n",
    "        return RedirectResponse(\n",
    "            url=f\"/?msg=Failed+to+clear+keys:+{str(e)}&type=error\",\n",
    "            status_code=303\n",
    "        )"
   ]
  },
  {
   "cell_type": "markdown",
   "id": "37fe0823",
   "metadata": {},
   "source": [
    "## Protected Routes Example"
   ]
  },
  {
   "cell_type": "code",
   "execution_count": 12,
   "id": "02b372f8",
   "metadata": {},
   "outputs": [],
   "source": [
    "@rt(\"/demo/openai\")\n",
    "@require_api_key(\"openai\", user_id_func=get_user_id)\n",
    "def openai_demo(req, sess):\n",
    "    \"\"\"Demo route that requires OpenAI API key\"\"\"\n",
    "    user_id = get_user_id(req)\n",
    "    # Get the API key using the global byok manager\n",
    "    api_key = byok.get_key(req, \"openai\", user_id)\n",
    "    \n",
    "    return PageLayout(\n",
    "        req,\n",
    "        \"OpenAI Demo\",\n",
    "        H2(\"OpenAI Integration\", cls=\"text-2xl font-bold mb-4\"),\n",
    "        Alert(\n",
    "            f\"Successfully accessed with API key: {api_key[:10]}...\",\n",
    "            kind=\"success\"\n",
    "        ),\n",
    "        P(\"This page requires an OpenAI API key to access.\", cls=\"mt-4\"),\n",
    "        P(\"In a real application, you would use this key to make API calls to OpenAI.\", cls=\"mt-2\")\n",
    "    )"
   ]
  },
  {
   "cell_type": "markdown",
   "id": "f8ea2d64",
   "metadata": {},
   "source": [
    "## Run the Application"
   ]
  },
  {
   "cell_type": "code",
   "execution_count": 13,
   "id": "7fb796d8",
   "metadata": {},
   "outputs": [
    {
     "data": {
      "text/html": [
       "\n",
       "<script>\n",
       "document.body.addEventListener('htmx:configRequest', (event) => {\n",
       "    if(event.detail.path.includes('://')) return;\n",
       "    htmx.config.selfRequestsOnly=false;\n",
       "    event.detail.path = `${location.protocol}//${location.hostname}:5001${event.detail.path}`;\n",
       "});\n",
       "</script>"
      ],
      "text/plain": [
       "<IPython.core.display.HTML object>"
      ]
     },
     "metadata": {},
     "output_type": "display_data"
    },
    {
     "data": {
      "text/html": [
       "<iframe src=\"http://localhost:5001/\" style=\"width: 100%; height: auto; border: none;\" onload=\"{\n",
       "        let frame = this;\n",
       "        window.addEventListener('message', function(e) {\n",
       "            if (e.source !== frame.contentWindow) return; // Only proceed if the message is from this iframe\n",
       "            if (e.data.height) frame.style.height = (e.data.height+1) + 'px';\n",
       "        }, false);\n",
       "    }\" allow=\"accelerometer; autoplay; camera; clipboard-read; clipboard-write; display-capture; encrypted-media; fullscreen; gamepad; geolocation; gyroscope; hid; identity-credentials-get; idle-detection; magnetometer; microphone; midi; payment; picture-in-picture; publickey-credentials-get; screen-wake-lock; serial; usb; web-share; xr-spatial-tracking\"></iframe> "
      ],
      "text/plain": [
       "<IPython.core.display.HTML object>"
      ]
     },
     "metadata": {},
     "output_type": "display_data"
    },
    {
     "name": "stdout",
     "output_type": "stream",
     "text": [
      "🚀 BYOK Demo App is running!\n",
      "📍 Visit http://localhost:5001 to see the app\n",
      "\n",
      "Test flow:\n",
      "1. Visit the dashboard - initially no keys\n",
      "2. Click 'Add Key' to add a new API key\n",
      "3. Enter a test key (e.g., 'sk-test123' for OpenAI)\n",
      "4. See the key appear in the dashboard\n",
      "5. Try updating or deleting keys\n",
      "6. Visit /demo/openai to see protected route (requires OpenAI key)\n",
      "7. Check Settings page for summary and security status\n",
      "\n",
      "Press Stop button in Jupyter to stop the server\n"
     ]
    }
   ],
   "source": [
    "#| eval: false\n",
    "# For Jupyter notebook display\n",
    "from fasthtml.jupyter import *\n",
    "from cjm_fasthtml_daisyui.core.testing import start_test_server\n",
    "\n",
    "# Start the server\n",
    "server = start_test_server(app, port=5001)\n",
    "\n",
    "# Display in Jupyter\n",
    "display(HTMX(port=server.port))\n",
    "\n",
    "print(\"🚀 BYOK Demo App is running!\")\n",
    "print(f\"📍 Visit http://localhost:{server.port} to see the app\")\n",
    "print(\"\\nTest flow:\")\n",
    "print(\"1. Visit the dashboard - initially no keys\")\n",
    "print(\"2. Click 'Add Key' to add a new API key\")\n",
    "print(\"3. Enter a test key (e.g., 'sk-test123' for OpenAI)\")\n",
    "print(\"4. See the key appear in the dashboard\")\n",
    "print(\"5. Try updating or deleting keys\")\n",
    "print(\"6. Visit /demo/openai to see protected route (requires OpenAI key)\")\n",
    "print(\"7. Check Settings page for summary and security status\")\n",
    "print(\"\\nPress Stop button in Jupyter to stop the server\")"
   ]
  },
  {
   "cell_type": "code",
   "execution_count": 14,
   "id": "bc23df80",
   "metadata": {},
   "outputs": [],
   "source": [
    "#| eval: false\n",
    "# Stop the server when done\n",
    "server.stop()"
   ]
  },
  {
   "cell_type": "markdown",
   "id": "368917cf",
   "metadata": {},
   "source": [
    "## Alternative: Run as Standalone Script"
   ]
  },
  {
   "cell_type": "code",
   "execution_count": 15,
   "id": "cb70ee91",
   "metadata": {},
   "outputs": [],
   "source": [
    "#| eval: false\n",
    "# To run as a standalone script, uncomment the following:\n",
    "# if __name__ == \"__main__\":\n",
    "#     import uvicorn\n",
    "#     uvicorn.run(app, host=\"0.0.0.0\", port=5001)"
   ]
  },
  {
   "cell_type": "markdown",
   "id": "45c12231",
   "metadata": {},
   "source": [
    "## Testing Different Scenarios\n",
    "\n",
    "### Test Scenarios to Try:\n",
    "\n",
    "1. **Add Keys**: Add different API keys for various providers\n",
    "2. **Update Keys**: Change existing keys\n",
    "3. **Delete Keys**: Remove individual keys\n",
    "4. **Protected Routes**: Try accessing `/demo/openai` with and without a key\n",
    "5. **Security Alerts**: Check the security warnings on the Settings page\n",
    "6. **Clear All**: Use the \"Clear All Keys\" button in Settings\n",
    "7. **Session Persistence**: Keys should persist during the session\n",
    "8. **Validation**: Try submitting empty forms\n",
    "\n",
    "### Key Features Demonstrated:\n",
    "\n",
    "- ✅ Secure key storage with encryption\n",
    "- ✅ Session and database hybrid storage\n",
    "- ✅ Multi-provider support\n",
    "- ✅ Protected routes with `@require_api_key` decorator\n",
    "- ✅ Visual feedback with alerts and notifications\n",
    "- ✅ Responsive dashboard layout\n",
    "- ✅ Security warnings and status\n",
    "- ✅ Key management (CRUD operations)\n",
    "- ✅ Clean UI with daisyUI and Tailwind CSS"
   ]
  }
 ],
 "metadata": {
  "kernelspec": {
   "display_name": "Python 3 (ipykernel)",
   "language": "python",
   "name": "python3"
  },
  "language_info": {
   "codemirror_mode": {
    "name": "ipython",
    "version": 3
   },
   "file_extension": ".py",
   "mimetype": "text/x-python",
   "name": "python",
   "nbconvert_exporter": "python",
   "pygments_lexer": "ipython3",
   "version": "3.11.13"
  }
 },
 "nbformat": 4,
 "nbformat_minor": 5
}
