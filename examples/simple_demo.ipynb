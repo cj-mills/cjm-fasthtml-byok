{
 "cells": [
  {
   "cell_type": "markdown",
   "id": "aa544e23",
   "metadata": {},
   "source": [
    "# Simple BYOK Demo\n",
    "\n",
    "> A minimal example showing basic BYOK functionality"
   ]
  },
  {
   "cell_type": "code",
   "execution_count": 1,
   "id": "9e525cc9",
   "metadata": {},
   "outputs": [],
   "source": [
    "#| default_exp examples.simple_demo"
   ]
  },
  {
   "cell_type": "markdown",
   "id": "6ae7269a",
   "metadata": {},
   "source": [
    "## Basic Setup"
   ]
  },
  {
   "cell_type": "code",
   "execution_count": 2,
   "id": "0823fad8",
   "metadata": {},
   "outputs": [],
   "source": [
    "from fasthtml.common import *\n",
    "from cjm_fasthtml_byok.core.storage import BYOKManager\n",
    "from cjm_fasthtml_byok.middleware.beforeware import create_byok_beforeware\n",
    "from cjm_fasthtml_byok.components.forms import KeyInputForm\n",
    "from cjm_fasthtml_byok.components.alerts import Alert\n",
    "\n",
    "# daisyUI and Tailwind imports\n",
    "from cjm_fasthtml_daisyui.core.resources import get_daisyui_headers\n",
    "from cjm_fasthtml_tailwind.utilities.spacing import p as padding\n",
    "from cjm_fasthtml_tailwind.core.base import combine_classes"
   ]
  },
  {
   "cell_type": "markdown",
   "id": "29ed0cfe",
   "metadata": {},
   "source": [
    "## Create Simple App"
   ]
  },
  {
   "cell_type": "code",
   "execution_count": 3,
   "id": "b22fe1e4",
   "metadata": {},
   "outputs": [],
   "source": [
    "# Initialize BYOK (session-only mode)\n",
    "SECRET_KEY = \"simple-demo-secret-key\"\n",
    "byok = BYOKManager(secret_key=SECRET_KEY)\n",
    "\n",
    "# Create beforeware\n",
    "byok_beforeware = create_byok_beforeware(byok)\n",
    "\n",
    "# Create app with session support and beforeware\n",
    "from starlette.middleware.sessions import SessionMiddleware\n",
    "\n",
    "app, rt = fast_app(\n",
    "    hdrs=get_daisyui_headers(),\n",
    "    secret_key=SECRET_KEY,\n",
    "    sess_cls=SessionMiddleware,  # Enable sessions\n",
    "    before=byok_beforeware  # Add beforeware back\n",
    ")"
   ]
  },
  {
   "cell_type": "markdown",
   "id": "2d5fc16a",
   "metadata": {},
   "source": [
    "## Define Routes"
   ]
  },
  {
   "cell_type": "code",
   "execution_count": 4,
   "id": "90b1a0f3",
   "metadata": {},
   "outputs": [],
   "source": [
    "@rt(\"/\")\n",
    "def index(req, sess):\n",
    "    \"\"\"Home page with key input form\"\"\"\n",
    "    # Check if we have a key stored\n",
    "    has_openai = byok.has_key(req, \"openai\")\n",
    "    \n",
    "    return Titled(\n",
    "        \"Simple BYOK Demo\",\n",
    "        Div(\n",
    "            H1(\"API Key Management Demo\", cls=\"text-2xl font-bold mb-4\"),\n",
    "            \n",
    "            # Show status\n",
    "            Alert(\n",
    "                f\"OpenAI key is {'configured ✓' if has_openai else 'not configured'}\",\n",
    "                kind=\"success\" if has_openai else \"warning\"\n",
    "            ),\n",
    "            \n",
    "            # Key input form\n",
    "            Div(\n",
    "                H2(\"Add/Update OpenAI Key\", cls=\"text-xl font-semibold mt-6 mb-4\"),\n",
    "                KeyInputForm(provider=\"openai\", action=\"/save-key\"),\n",
    "                cls=\"max-w-md\"\n",
    "            ),\n",
    "            \n",
    "            # Action buttons if key exists\n",
    "            Div(\n",
    "                Div(\n",
    "                    A(\"Test API Key\", href=\"/test\", cls=\"btn btn-primary mr-2\"),\n",
    "                    A(\"Visit Protected Route\", href=\"/protected\", cls=\"btn btn-secondary mr-2\"),\n",
    "                    cls=\"flex gap-2 mb-4\"\n",
    "                ),\n",
    "                # Delete button (as a form to use POST)\n",
    "                Form(\n",
    "                    Button(\"Delete Key\", type=\"submit\", cls=\"btn btn-error btn-sm\"),\n",
    "                    method=\"post\",\n",
    "                    action=\"/delete-key\",\n",
    "                    onsubmit=\"return confirm('Are you sure you want to delete the key?');\"\n",
    "                )\n",
    "            ) if has_openai else None,\n",
    "            \n",
    "            # Try protected route without key button\n",
    "            Div(\n",
    "                P(\"Try visiting the protected route without a key:\", cls=\"mt-4\"),\n",
    "                A(\"Visit Protected Route\", href=\"/protected\", cls=\"btn btn-warning\")\n",
    "            ) if not has_openai else None,\n",
    "            \n",
    "            cls=combine_classes(\"container\", \"mx-auto\", padding._6)\n",
    "        )\n",
    "    )"
   ]
  },
  {
   "cell_type": "code",
   "execution_count": 5,
   "id": "m6kk9ypztv",
   "metadata": {},
   "outputs": [],
   "source": [
    "@rt(\"/save-key\", methods=[\"POST\"])\n",
    "def save_key(req, sess, api_key: str):\n",
    "    \"\"\"Save the API key\"\"\"\n",
    "    try:\n",
    "        byok.set_key(req, \"openai\", api_key)\n",
    "        return RedirectResponse(url=\"/?saved=true\", status_code=303)\n",
    "    except Exception as e:\n",
    "        return RedirectResponse(url=\"/?error=true\", status_code=303)\n",
    "\n",
    "@rt(\"/test\")\n",
    "def test_key(req, sess):\n",
    "    \"\"\"Test the stored API key\"\"\"\n",
    "    api_key = byok.get_key(req, \"openai\")\n",
    "    \n",
    "    if not api_key:\n",
    "        return Titled(\n",
    "            \"No Key Found\",\n",
    "            Alert(\"No OpenAI key found. Please add one first.\", kind=\"error\"),\n",
    "            A(\"Go Back\", href=\"/\", cls=\"btn btn-primary mt-4\")\n",
    "        )\n",
    "    \n",
    "    from cjm_fasthtml_byok.core.security import mask_key\n",
    "    \n",
    "    return Titled(\n",
    "        \"API Key Test\",\n",
    "        Div(\n",
    "            H1(\"API Key Retrieved Successfully!\", cls=\"text-2xl font-bold mb-4\"),\n",
    "            Alert(\n",
    "                f\"Key found: {mask_key(api_key)}\",\n",
    "                kind=\"success\"\n",
    "            ),\n",
    "            P(\n",
    "                \"In a real application, you would now use this key to make API calls.\",\n",
    "                cls=\"mt-4\"\n",
    "            ),\n",
    "            A(\"Go Back\", href=\"/\", cls=\"btn btn-primary mt-4\"),\n",
    "            cls=combine_classes(\"container\", \"mx-auto\", padding._6)\n",
    "        )\n",
    "    )"
   ]
  },
  {
   "cell_type": "code",
   "execution_count": 6,
   "id": "6mdiy75q6zc",
   "metadata": {},
   "outputs": [],
   "source": [
    "@rt(\"/delete-key\", methods=[\"POST\"])\n",
    "def delete_key(req, sess):\n",
    "    \"\"\"Delete the stored API key\"\"\"\n",
    "    byok.delete_key(req, \"openai\")\n",
    "    return RedirectResponse(url=\"/?deleted=true\", status_code=303)\n",
    "\n",
    "@rt(\"/clear-all\", methods=[\"POST\"])\n",
    "def clear_all_keys(req, sess):\n",
    "    \"\"\"Clear all stored API keys\"\"\"\n",
    "    byok.clear_keys(req)\n",
    "    return RedirectResponse(url=\"/?cleared=true\", status_code=303)"
   ]
  },
  {
   "cell_type": "code",
   "execution_count": 7,
   "id": "zl3vz9gcng",
   "metadata": {},
   "outputs": [],
   "source": [
    "# Example of protected route using decorator\n",
    "from cjm_fasthtml_byok.middleware.beforeware import require_api_key\n",
    "\n",
    "@rt(\"/protected\")\n",
    "@require_api_key(\"openai\")\n",
    "def protected_route(req):\n",
    "    \"\"\"Example of a protected route that requires an API key\"\"\"\n",
    "    # If we get here, the key exists\n",
    "    # Access byok from request scope (added by beforeware)\n",
    "    byok_manager = req.scope.get('byok', byok)  # Fallback to global\n",
    "    api_key = byok_manager.get_key(req, \"openai\")\n",
    "    \n",
    "    from cjm_fasthtml_byok.core.security import mask_key\n",
    "    \n",
    "    return Titled(\n",
    "        \"Protected Route\",\n",
    "        Div(\n",
    "            H1(\"🔒 Protected Content\", cls=\"text-2xl font-bold mb-4\"),\n",
    "            Alert(\n",
    "                f\"You have access! Using key: {mask_key(api_key)}\",\n",
    "                kind=\"success\"\n",
    "            ),\n",
    "            P(\"This route is protected by the @require_api_key decorator.\", cls=\"mt-4\"),\n",
    "            P(\"If you didn't have an OpenAI key, you'd see an error page.\", cls=\"mt-2\"),\n",
    "            A(\"Go Back\", href=\"/\", cls=\"btn btn-primary mt-4\"),\n",
    "            cls=combine_classes(\"container\", \"mx-auto\", padding._6)\n",
    "        )\n",
    "    )"
   ]
  },
  {
   "cell_type": "markdown",
   "id": "ea3ebd95",
   "metadata": {},
   "source": [
    "## Run the Demo"
   ]
  },
  {
   "cell_type": "code",
   "execution_count": 8,
   "id": "7a770cca",
   "metadata": {},
   "outputs": [
    {
     "data": {
      "text/html": [
       "\n",
       "<script>\n",
       "document.body.addEventListener('htmx:configRequest', (event) => {\n",
       "    if(event.detail.path.includes('://')) return;\n",
       "    htmx.config.selfRequestsOnly=false;\n",
       "    event.detail.path = `${location.protocol}//${location.hostname}:5002${event.detail.path}`;\n",
       "});\n",
       "</script>"
      ],
      "text/plain": [
       "<IPython.core.display.HTML object>"
      ]
     },
     "metadata": {},
     "output_type": "display_data"
    },
    {
     "data": {
      "text/html": [
       "<iframe src=\"http://localhost:5002/\" style=\"width: 100%; height: auto; border: none;\" onload=\"{\n",
       "        let frame = this;\n",
       "        window.addEventListener('message', function(e) {\n",
       "            if (e.source !== frame.contentWindow) return; // Only proceed if the message is from this iframe\n",
       "            if (e.data.height) frame.style.height = (e.data.height+1) + 'px';\n",
       "        }, false);\n",
       "    }\" allow=\"accelerometer; autoplay; camera; clipboard-read; clipboard-write; display-capture; encrypted-media; fullscreen; gamepad; geolocation; gyroscope; hid; identity-credentials-get; idle-detection; magnetometer; microphone; midi; payment; picture-in-picture; publickey-credentials-get; screen-wake-lock; serial; usb; web-share; xr-spatial-tracking\"></iframe> "
      ],
      "text/plain": [
       "<IPython.core.display.HTML object>"
      ]
     },
     "metadata": {},
     "output_type": "display_data"
    },
    {
     "name": "stdout",
     "output_type": "stream",
     "text": [
      "🚀 Simple BYOK Demo Running!\n",
      "📍 Visit http://localhost:5002\n",
      "\n",
      "Try adding a test key like 'sk-test123'\n"
     ]
    }
   ],
   "source": [
    "#| eval: false\n",
    "from fasthtml.jupyter import *\n",
    "from cjm_fasthtml_daisyui.core.testing import start_test_server\n",
    "\n",
    "# Start server\n",
    "server = start_test_server(app, port=5002)\n",
    "\n",
    "# Display in notebook\n",
    "display(HTMX(port=server.port))\n",
    "\n",
    "print(\"🚀 Simple BYOK Demo Running!\")\n",
    "print(f\"📍 Visit http://localhost:{server.port}\")\n",
    "print(\"\\nTry adding a test key like 'sk-test123'\")"
   ]
  },
  {
   "cell_type": "code",
   "execution_count": 9,
   "id": "34f9cfce",
   "metadata": {},
   "outputs": [],
   "source": [
    "#| eval: false\n",
    "# Stop the server\n",
    "server.stop()"
   ]
  },
  {
   "cell_type": "code",
   "execution_count": null,
   "id": "7f386c20-26b5-447d-9473-3c7233dcbaf5",
   "metadata": {},
   "outputs": [],
   "source": []
  }
 ],
 "metadata": {
  "kernelspec": {
   "display_name": "Python 3 (ipykernel)",
   "language": "python",
   "name": "python3"
  },
  "language_info": {
   "codemirror_mode": {
    "name": "ipython",
    "version": 3
   },
   "file_extension": ".py",
   "mimetype": "text/x-python",
   "name": "python",
   "nbconvert_exporter": "python",
   "pygments_lexer": "ipython3",
   "version": "3.11.13"
  }
 },
 "nbformat": 4,
 "nbformat_minor": 5
}
